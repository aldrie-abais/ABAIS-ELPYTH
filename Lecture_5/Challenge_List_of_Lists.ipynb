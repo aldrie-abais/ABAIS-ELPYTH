{
 "cells": [
  {
   "cell_type": "markdown",
   "id": "3d36504c-954a-4cf7-81ba-4348857ffaf0",
   "metadata": {},
   "source": [
    "# Challenge: List of Lists\n",
    "\n",
    "___"
   ]
  },
  {
   "cell_type": "code",
   "execution_count": 2,
   "id": "f27961ce-5c00-403f-83f2-e9dc5c111933",
   "metadata": {},
   "outputs": [
    {
     "name": "stdout",
     "output_type": "stream",
     "text": [
      "[['California Insitute of Technology', 2175, 37704], ['Harvard', 19627, 39849], ['Massachusetts Insitute of Technology', 10566, 40732], ['Princeton', 7802, 37000], ['Rice', 5789, 35551], ['Stanford', 19535, 40569], ['Yale', 11701, 40500]]\n"
     ]
    }
   ],
   "source": [
    "universities = [['California Institute of Technology', 2175, 37704], ['Harvard', 19627, 39849], ['Massachusetts Institute of Technology', 10566, 40732], ['Princeton', 7802, 37000], ['Rice', 5789, 35551], ['Stanford', 19535, 40569], ['Yale', 11701, 40500]]\n",
    "print(universities)"
   ]
  },
  {
   "cell_type": "code",
   "execution_count": null,
   "id": "c8715d84-9e75-4ea7-be0e-f7d64d2ee976",
   "metadata": {},
   "outputs": [],
   "source": []
  }
 ],
 "metadata": {
  "kernelspec": {
   "display_name": "Python 3 (ipykernel)",
   "language": "python",
   "name": "python3"
  },
  "language_info": {
   "codemirror_mode": {
    "name": "ipython",
    "version": 3
   },
   "file_extension": ".py",
   "mimetype": "text/x-python",
   "name": "python",
   "nbconvert_exporter": "python",
   "pygments_lexer": "ipython3",
   "version": "3.13.5"
  }
 },
 "nbformat": 4,
 "nbformat_minor": 5
}
