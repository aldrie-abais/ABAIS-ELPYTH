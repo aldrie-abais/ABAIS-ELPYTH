{
 "cells": [
  {
   "cell_type": "markdown",
   "id": "6bff5728-338e-4b48-b9a9-1bfafedd6207",
   "metadata": {},
   "source": [
    "# 3-Review_Exercises\n",
    "\n",
    "__________"
   ]
  },
  {
   "cell_type": "code",
   "execution_count": 2,
   "id": "70f5d9d6-9801-4cc3-b7a9-3e08c871d96a",
   "metadata": {},
   "outputs": [
    {
     "ename": "AttributeError",
     "evalue": "'tuple' object has no attribute 'sum'",
     "output_type": "error",
     "traceback": [
      "\u001b[1;31m---------------------------------------------------------------------------\u001b[0m",
      "\u001b[1;31mAttributeError\u001b[0m                            Traceback (most recent call last)",
      "Cell \u001b[1;32mIn[2], line 2\u001b[0m\n\u001b[0;32m      1\u001b[0m TUPLE_DATA \u001b[38;5;241m=\u001b[39m ((\u001b[38;5;241m1\u001b[39m,\u001b[38;5;241m2\u001b[39m),(\u001b[38;5;241m3\u001b[39m,\u001b[38;5;241m4\u001b[39m))\n\u001b[1;32m----> 2\u001b[0m \u001b[38;5;28mprint\u001b[39m(TUPLE_DATA\u001b[38;5;241m.\u001b[39msum(\u001b[38;5;241m0\u001b[39m), TUPLE_DATA\u001b[38;5;241m.\u001b[39msum(\u001b[38;5;241m1\u001b[39m))\n",
      "\u001b[1;31mAttributeError\u001b[0m: 'tuple' object has no attribute 'sum'"
     ]
    }
   ],
   "source": [
    "TUPLE_DATA = ((1,2),(3,4))\n",
    "print(TUPLE_DATA.sum(0), TUPLE_DATA.sum(1))"
   ]
  },
  {
   "cell_type": "code",
   "execution_count": null,
   "id": "6ca4575a-a975-419c-a357-6c0c06ad9961",
   "metadata": {},
   "outputs": [],
   "source": []
  }
 ],
 "metadata": {
  "kernelspec": {
   "display_name": "Python 3 (ipykernel)",
   "language": "python",
   "name": "python3"
  },
  "language_info": {
   "codemirror_mode": {
    "name": "ipython",
    "version": 3
   },
   "file_extension": ".py",
   "mimetype": "text/x-python",
   "name": "python",
   "nbconvert_exporter": "python",
   "pygments_lexer": "ipython3",
   "version": "3.13.5"
  }
 },
 "nbformat": 4,
 "nbformat_minor": 5
}
