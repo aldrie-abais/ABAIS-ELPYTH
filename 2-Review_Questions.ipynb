{
 "cells": [
  {
   "cell_type": "markdown",
   "id": "128a59b2-5841-420f-8f88-01f13f204ffa",
   "metadata": {},
   "source": [
    "# 2-Review_Exercises\n",
    "\n",
    "__________"
   ]
  },
  {
   "cell_type": "code",
   "execution_count": 10,
   "id": "18482eac-ee8c-4190-8eb4-ff10f8814885",
   "metadata": {},
   "outputs": [
    {
     "name": "stdout",
     "output_type": "stream",
     "text": [
      "['RICE', 'BEANS', 'BROCCOLI', 'BREAD', 'PIZZA']\n",
      "['RICE', 'BEANS']\n",
      "PIZZA\n"
     ]
    }
   ],
   "source": [
    "FOOD = [\"RICE\", \"BEANS\"]\n",
    "FOOD.append(\"BROCCOLI\")\n",
    "FOOD.extend([\"BREAD\", \"PIZZA\"])\n",
    "print(FOOD)\n",
    "print(FOOD[:2])\n",
    "print(FOOD[len(FOOD)-1])"
   ]
  },
  {
   "cell_type": "code",
   "execution_count": 20,
   "id": "af300fa3-49d8-4c58-a050-8266441051f7",
   "metadata": {},
   "outputs": [
    {
     "data": {
      "text/plain": [
       "3"
      ]
     },
     "execution_count": 20,
     "metadata": {},
     "output_type": "execute_result"
    }
   ],
   "source": [
    "BF = \"EGGS, FRUIT, ORANGE JUICE\"\n",
    "BREAKFAST = BF.split(\", \")\n",
    "len(BREAKFAST)"
   ]
  },
  {
   "cell_type": "code",
   "execution_count": 23,
   "id": "b180c26a-775e-4b99-b983-9ab859ae8c8c",
   "metadata": {},
   "outputs": [
    {
     "name": "stdout",
     "output_type": "stream",
     "text": [
      "[4, 5, 12]\n"
     ]
    }
   ],
   "source": [
    "LENGTHS = [len(length) for length in BREAKFAST]\n",
    "print(LENGTHS)"
   ]
  },
  {
   "cell_type": "code",
   "execution_count": null,
   "id": "ea1f7ca2-8971-4764-98e6-e2b9b9fd0b52",
   "metadata": {},
   "outputs": [],
   "source": []
  }
 ],
 "metadata": {
  "kernelspec": {
   "display_name": "Python 3 (ipykernel)",
   "language": "python",
   "name": "python3"
  },
  "language_info": {
   "codemirror_mode": {
    "name": "ipython",
    "version": 3
   },
   "file_extension": ".py",
   "mimetype": "text/x-python",
   "name": "python",
   "nbconvert_exporter": "python",
   "pygments_lexer": "ipython3",
   "version": "3.13.5"
  }
 },
 "nbformat": 4,
 "nbformat_minor": 5
}
