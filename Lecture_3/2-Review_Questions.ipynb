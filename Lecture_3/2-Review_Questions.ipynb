{
 "cells": [
  {
   "cell_type": "markdown",
   "id": "569e834b-7b5b-4341-9805-6a47e2f6aa1a",
   "metadata": {},
   "source": [
    "# 2-Review_Questions\n",
    "\n",
    "______"
   ]
  },
  {
   "cell_type": "code",
   "execution_count": 19,
   "id": "f47c6287-996e-44b9-b73d-e21761928fc9",
   "metadata": {},
   "outputs": [
    {
     "name": "stdout",
     "output_type": "stream",
     "text": [
      "2\n",
      "3\n",
      "4\n",
      "5\n",
      "6\n",
      "7\n",
      "8\n",
      "9\n",
      "10\n"
     ]
    }
   ],
   "source": [
    "for n in range(2, 11):\n",
    "    print(f\"{n}\")\n",
    "    "
   ]
  },
  {
   "cell_type": "code",
   "execution_count": 20,
   "id": "30112a8b-fea8-441a-9b57-9a3d5561ad26",
   "metadata": {},
   "outputs": [
    {
     "name": "stdout",
     "output_type": "stream",
     "text": [
      "2\n",
      "3\n",
      "4\n",
      "5\n",
      "6\n",
      "7\n",
      "8\n",
      "9\n",
      "10\n"
     ]
    }
   ],
   "source": [
    "n = 2\n",
    "while(n < 11):\n",
    "    print(n)\n",
    "    n = n + 1"
   ]
  },
  {
   "cell_type": "code",
   "execution_count": 18,
   "id": "55653e64-4267-40ec-a09e-f069521214dc",
   "metadata": {},
   "outputs": [
    {
     "name": "stdout",
     "output_type": "stream",
     "text": [
      "4\n",
      "8\n",
      "16\n"
     ]
    }
   ],
   "source": [
    "num = 2\n",
    "def doubles(num):\n",
    "     for n in range(0,3):\n",
    "        num = num * 2\n",
    "        print(num)\n",
    "\n",
    "doubles(num)"
   ]
  },
  {
   "cell_type": "code",
   "execution_count": null,
   "id": "a064dc63-f685-441a-afd2-d1ce46afbed7",
   "metadata": {},
   "outputs": [],
   "source": []
  }
 ],
 "metadata": {
  "kernelspec": {
   "display_name": "Python 3 (ipykernel)",
   "language": "python",
   "name": "python3"
  },
  "language_info": {
   "codemirror_mode": {
    "name": "ipython",
    "version": 3
   },
   "file_extension": ".py",
   "mimetype": "text/x-python",
   "name": "python",
   "nbconvert_exporter": "python",
   "pygments_lexer": "ipython3",
   "version": "3.13.5"
  }
 },
 "nbformat": 4,
 "nbformat_minor": 5
}
