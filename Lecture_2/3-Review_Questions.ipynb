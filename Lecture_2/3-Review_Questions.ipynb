{
 "cells": [
  {
   "cell_type": "markdown",
   "id": "772939cb-d61d-4992-ab6c-72adc6bb1058",
   "metadata": {},
   "source": [
    "# Review Questions 3\n",
    "\n",
    "_____\n"
   ]
  },
  {
   "cell_type": "code",
   "execution_count": 2,
   "id": "646b98a0-1b5d-4ec6-94fe-28ddae6da65f",
   "metadata": {},
   "outputs": [
    {
     "name": "stdin",
     "output_type": "stream",
     "text": [
      "Enter a number:  5.432\n"
     ]
    },
    {
     "name": "stdout",
     "output_type": "stream",
     "text": [
      "5.432 rounded to 2 decimal places is 5.43\n"
     ]
    }
   ],
   "source": [
    "prompt = \"Enter a number: \"\n",
    "firstInput = input(prompt)\n",
    "convertedInput = float(firstInput)\n",
    "\n",
    "roundedInput = round(convertedInput, 2)\n",
    "\n",
    "print(firstInput, \"rounded to 2 decimal places is\", roundedInput)"
   ]
  },
  {
   "cell_type": "code",
   "execution_count": 4,
   "id": "f141021a-fc0c-47f7-bf61-da90d20636d3",
   "metadata": {},
   "outputs": [
    {
     "name": "stdin",
     "output_type": "stream",
     "text": [
      "Enter a number:  -10\n"
     ]
    },
    {
     "name": "stdout",
     "output_type": "stream",
     "text": [
      "The absolute value of -10 is 10.0\n"
     ]
    }
   ],
   "source": [
    "prompt = \"Enter a number: \"\n",
    "firstInput = input(prompt)\n",
    "convertedInput = float(firstInput)\n",
    "\n",
    "absoluteInput = abs(convertedInput)\n",
    "\n",
    "print(\"The absolute value of\", firstInput, \"is\", absoluteInput)"
   ]
  },
  {
   "cell_type": "code",
   "execution_count": null,
   "id": "b62b9839-ce29-439d-a0c7-b54b9f067a9a",
   "metadata": {},
   "outputs": [],
   "source": []
  }
 ],
 "metadata": {
  "kernelspec": {
   "display_name": "Python 3 (ipykernel)",
   "language": "python",
   "name": "python3"
  },
  "language_info": {
   "codemirror_mode": {
    "name": "ipython",
    "version": 3
   },
   "file_extension": ".py",
   "mimetype": "text/x-python",
   "name": "python",
   "nbconvert_exporter": "python",
   "pygments_lexer": "ipython3",
   "version": "3.13.5"
  }
 },
 "nbformat": 4,
 "nbformat_minor": 5
}
