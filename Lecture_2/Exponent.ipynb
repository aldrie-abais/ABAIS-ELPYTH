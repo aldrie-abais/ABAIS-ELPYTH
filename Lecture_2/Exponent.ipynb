{
 "cells": [
  {
   "cell_type": "markdown",
   "id": "c01376ce-e626-413f-a8b0-bae0250625ec",
   "metadata": {},
   "source": [
    "# Review Questions 2\n",
    "\n",
    "____"
   ]
  },
  {
   "cell_type": "code",
   "execution_count": 8,
   "id": "ccca8f21-5d3a-43a7-b48d-86a3356acae4",
   "metadata": {},
   "outputs": [
    {
     "name": "stdin",
     "output_type": "stream",
     "text": [
      "Enter a base:  1.2\n",
      "Enter an exponent:  3\n"
     ]
    },
    {
     "name": "stdout",
     "output_type": "stream",
     "text": [
      "1.2 to the power of 3 = 1.7279999999999998\n"
     ]
    }
   ],
   "source": [
    "firstPrompt = \"Enter a base: \"\n",
    "firstInput = input(firstPrompt)\n",
    "\n",
    "convertedInput1 = float(firstInput)\n",
    "\n",
    "secondPrompt = \"Enter an exponent: \"\n",
    "secondInput = input(secondPrompt)\n",
    "\n",
    "convertedInput2 = int(secondInput)\n",
    "\n",
    "Result = convertedInput1 ** convertedInput2\n",
    "\n",
    "print(firstInput, \"to the power of\", secondInput , \"=\", Result)"
   ]
  },
  {
   "cell_type": "code",
   "execution_count": null,
   "id": "2f76bc9f-5957-4d97-ac90-bca028ef1dc6",
   "metadata": {},
   "outputs": [],
   "source": []
  }
 ],
 "metadata": {
  "kernelspec": {
   "display_name": "Python 3 (ipykernel)",
   "language": "python",
   "name": "python3"
  },
  "language_info": {
   "codemirror_mode": {
    "name": "ipython",
    "version": 3
   },
   "file_extension": ".py",
   "mimetype": "text/x-python",
   "name": "python",
   "nbconvert_exporter": "python",
   "pygments_lexer": "ipython3",
   "version": "3.13.5"
  }
 },
 "nbformat": 4,
 "nbformat_minor": 5
}
