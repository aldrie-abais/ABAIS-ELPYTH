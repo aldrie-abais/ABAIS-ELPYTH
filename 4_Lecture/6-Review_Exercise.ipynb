{
 "cells": [
  {
   "cell_type": "markdown",
   "id": "c2a3d2a8-fcfe-4938-91f4-9f0f7eaf4edf",
   "metadata": {},
   "source": [
    "# 6-Review_Exercises\n",
    "\n",
    "__________"
   ]
  },
  {
   "cell_type": "code",
   "execution_count": 4,
   "id": "b39c402f-dc8f-4db8-9ee0-a147e669a716",
   "metadata": {},
   "outputs": [
    {
     "name": "stdout",
     "output_type": "stream",
     "text": [
      "6\n"
     ]
    }
   ],
   "source": [
    "import random\n",
    "def ROLL():\n",
    "    return random.randint(1, 6)\n",
    "\n",
    "print(ROLL())"
   ]
  },
  {
   "cell_type": "code",
   "execution_count": 4,
   "id": "e9f2a7fc-915a-4093-8964-ef0e5908bea6",
   "metadata": {},
   "outputs": [
    {
     "name": "stdout",
     "output_type": "stream",
     "text": [
      "3.5195\n"
     ]
    }
   ],
   "source": [
    "import random\n",
    "def ROLL():\n",
    "    return random.randint(1, 6)\n",
    "total = 0\n",
    "for n in range(10000):\n",
    "    total = total + ROLL()\n",
    "print(total / 10000)"
   ]
  },
  {
   "cell_type": "code",
   "execution_count": null,
   "id": "95c865f9-13d7-4e3b-b442-7c45bf3fc790",
   "metadata": {},
   "outputs": [],
   "source": []
  }
 ],
 "metadata": {
  "kernelspec": {
   "display_name": "Python 3 (ipykernel)",
   "language": "python",
   "name": "python3"
  },
  "language_info": {
   "codemirror_mode": {
    "name": "ipython",
    "version": 3
   },
   "file_extension": ".py",
   "mimetype": "text/x-python",
   "name": "python",
   "nbconvert_exporter": "python",
   "pygments_lexer": "ipython3",
   "version": "3.10.18"
  }
 },
 "nbformat": 4,
 "nbformat_minor": 5
}
