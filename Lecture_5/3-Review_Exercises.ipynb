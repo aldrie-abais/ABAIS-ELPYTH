{
 "cells": [
  {
   "cell_type": "markdown",
   "id": "079c6ba0-8aab-42e4-9e64-7f3abb5c871b",
   "metadata": {},
   "source": [
    "# 3-Review_Exercises\n",
    "\n",
    "__________"
   ]
  },
  {
   "cell_type": "code",
   "execution_count": 14,
   "id": "106e0c80-bd6a-4bb5-a80d-50d920e45dce",
   "metadata": {},
   "outputs": [],
   "source": [
    "TUPLE_DATA = ((1,2),(3,4))\n",
    "i = 0"
   ]
  },
  {
   "cell_type": "code",
   "execution_count": 15,
   "id": "bbc489f8-173b-4003-b660-5f72473a8c8e",
   "metadata": {},
   "outputs": [
    {
     "name": "stdout",
     "output_type": "stream",
     "text": [
      "Row 1 sum: 3\n",
      "Row 2 sum: 7\n"
     ]
    }
   ],
   "source": [
    "for n in TUPLE_DATA:\n",
    "    print(f\"Row {i+1} sum: {sum(n)}\")\n",
    "    i += 1"
   ]
  },
  {
   "cell_type": "code",
   "execution_count": 12,
   "id": "98ebbce2-520d-4bfb-813d-57958138b486",
   "metadata": {},
   "outputs": [
    {
     "name": "stdout",
     "output_type": "stream",
     "text": [
      "Original numbers: [5, 2, 9, 1, 7]\n",
      "Copied numbers:   [5, 2, 9, 1, 7]\n"
     ]
    }
   ],
   "source": [
    "numbers = [5, 2, 9, 1, 7]\n",
    "numbers_copy = numbers[:]\n",
    "print(f\"Original numbers: {numbers}\")\n",
    "print(f\"Copied numbers:   {numbers_copy}\")"
   ]
  },
  {
   "cell_type": "code",
   "execution_count": 13,
   "id": "33c4a0a0-28eb-4f31-9cd8-abaf0c7f3aa5",
   "metadata": {},
   "outputs": [
    {
     "name": "stdout",
     "output_type": "stream",
     "text": [
      "[1, 2, 5, 7, 9]\n"
     ]
    }
   ],
   "source": [
    "numbers_copy.sort()\n",
    "print(numbers_copy)"
   ]
  },
  {
   "cell_type": "code",
   "execution_count": null,
   "id": "31e9f036-b4cb-4b9f-8baf-7b3b567a28e7",
   "metadata": {},
   "outputs": [],
   "source": []
  }
 ],
 "metadata": {
  "kernelspec": {
   "display_name": "Python 3 (ipykernel)",
   "language": "python",
   "name": "python3"
  },
  "language_info": {
   "codemirror_mode": {
    "name": "ipython",
    "version": 3
   },
   "file_extension": ".py",
   "mimetype": "text/x-python",
   "name": "python",
   "nbconvert_exporter": "python",
   "pygments_lexer": "ipython3",
   "version": "3.13.5"
  }
 },
 "nbformat": 4,
 "nbformat_minor": 5
}
