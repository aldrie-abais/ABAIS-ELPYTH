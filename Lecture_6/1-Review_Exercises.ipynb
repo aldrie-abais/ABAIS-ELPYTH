{
 "cells": [
  {
   "cell_type": "markdown",
   "id": "01655ed5-ed93-4544-9e2b-8cb8ed282e29",
   "metadata": {},
   "source": [
    "# 1-Review_Exercises\n",
    "\n",
    "__________"
   ]
  },
  {
   "cell_type": "code",
   "execution_count": 14,
   "id": "ebc0bbea-6b5b-4339-bd02-a03afab93ce3",
   "metadata": {},
   "outputs": [
    {
     "name": "stdout",
     "output_type": "stream",
     "text": [
      "Philo's coat is brown.\n"
     ]
    }
   ],
   "source": [
    "class Dog:\n",
    "    species = \"Canis familiaris\"\n",
    "\n",
    "    def __init__(self, name, age, coat_color):\n",
    "        self.name = name\n",
    "        self.age = age\n",
    "        self.coat_color = coat_color\n",
    "\n",
    "philo = Dog(\"Philo\", 5, \"brown\")\n",
    "print(f\"{philo.name}'s coat is {philo.coat_color}.\")"
   ]
  },
  {
   "cell_type": "code",
   "execution_count": 28,
   "id": "09c113f3-7e51-464d-bcfb-2fee848131ed",
   "metadata": {},
   "outputs": [
    {
     "name": "stdout",
     "output_type": "stream",
     "text": [
      "The blue car has 20,000 miles.\n",
      "The red car has 30,000 miles.\n",
      "\n",
      "Before driving: 0 miles\n",
      "After driving 100 miles: 0 miles\n"
     ]
    }
   ],
   "source": [
    "class Car:\n",
    "\n",
    "    def __init__(self, color, mileage):\n",
    "        self.color = color\n",
    "        self.mileage = mileage\n",
    "\n",
    "    def drive(self, miles):\n",
    "        self.miles = miles\n",
    "\n",
    "blueCar = Car(\"blue\", 20000)\n",
    "redCar = Car(\"red\", 30000)\n",
    "\n",
    "print(f\"The {blueCar.color} car has {20000:,} miles.\")\n",
    "print(f\"The {redCar.color} car has {redCar.mileage:,} miles.\")\n",
    "\n",
    "test_car = Car(\"green\", 0)\n",
    "print(f\"\\nBefore driving: {test_car.mileage} miles\")\n",
    "\n",
    "test_car.drive(100)\n",
    "print(f\"After driving 100 miles: {test_car.mileage} miles\")"
   ]
  },
  {
   "cell_type": "code",
   "execution_count": null,
   "id": "8fa5b5c1-e337-4c2a-8b4a-25596958db28",
   "metadata": {},
   "outputs": [],
   "source": []
  }
 ],
 "metadata": {
  "kernelspec": {
   "display_name": "Python 3 (ipykernel)",
   "language": "python",
   "name": "python3"
  },
  "language_info": {
   "codemirror_mode": {
    "name": "ipython",
    "version": 3
   },
   "file_extension": ".py",
   "mimetype": "text/x-python",
   "name": "python",
   "nbconvert_exporter": "python",
   "pygments_lexer": "ipython3",
   "version": "3.13.5"
  }
 },
 "nbformat": 4,
 "nbformat_minor": 5
}
