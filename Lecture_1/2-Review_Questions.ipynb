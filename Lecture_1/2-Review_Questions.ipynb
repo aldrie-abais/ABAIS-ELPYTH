{
 "cells": [
  {
   "cell_type": "markdown",
   "id": "e4db6afa-9364-4faf-b104-9dc4ff0b6f77",
   "metadata": {},
   "source": [
    "# Review Questions 2\n",
    "\n",
    "____\n"
   ]
  },
  {
   "cell_type": "code",
   "execution_count": 5,
   "id": "8f87e15f-e451-4d25-a91f-a0c09408019f",
   "metadata": {},
   "outputs": [
    {
     "name": "stdout",
     "output_type": "stream",
     "text": [
      "animals\n",
      "badger\n",
      "honey bee\n",
      "honeybadger\n"
     ]
    }
   ],
   "source": [
    "firstString = \"Animals\"\n",
    "secondString = \"Badger\"\n",
    "thirdString = \"Honey Bee\"\n",
    "fourthString = \"HoneyBadger\"\n",
    "\n",
    "print(firstString.lower())\n",
    "print(secondString.lower())\n",
    "print(thirdString.lower())\n",
    "print(fourthString.lower())"
   ]
  },
  {
   "cell_type": "code",
   "execution_count": 4,
   "id": "667497c1-872c-43f8-882b-d19ae2e71127",
   "metadata": {},
   "outputs": [
    {
     "name": "stdout",
     "output_type": "stream",
     "text": [
      "ANIMALS\n",
      "BADGER\n",
      "HONEY BEE\n",
      "HONEYBADGER\n"
     ]
    }
   ],
   "source": [
    "firstString = \"Animals\"\n",
    "secondString = \"Badger\"\n",
    "thirdString = \"Honey Bee\"\n",
    "fourthString = \"HoneyBadger\"\n",
    "\n",
    "print(firstString.upper())\n",
    "print(secondString.upper())\n",
    "print(thirdString.upper())\n",
    "print(fourthString.upper())"
   ]
  },
  {
   "cell_type": "code",
   "execution_count": 16,
   "id": "892063fa-64a6-4ed6-a1ba-d6bb996bdb4c",
   "metadata": {},
   "outputs": [
    {
     "name": "stdout",
     "output_type": "stream",
     "text": [
      "Filet Mignon\n",
      "Brisket\n"
     ]
    }
   ],
   "source": [
    "string1 = \"  Filet Mignon\"\n",
    "string2 = \"Brisket   \"\n",
    "\n",
    "print(string1.lstrip())\n",
    "print(string2.rstrip())\n"
   ]
  },
  {
   "cell_type": "code",
   "execution_count": 17,
   "id": "54552478-3504-44fc-8547-a69f4677d21a",
   "metadata": {},
   "outputs": [
    {
     "name": "stdout",
     "output_type": "stream",
     "text": [
      "False\n",
      "True\n"
     ]
    }
   ],
   "source": [
    "string1 = \"Becomes\"\n",
    "string2 = \"becomes\"\n",
    "\n",
    "print(string1.startswith(\"be\"))\n",
    "print(string2.startswith(\"be\"))"
   ]
  },
  {
   "cell_type": "code",
   "execution_count": 19,
   "id": "29383beb-9a60-424d-a5ff-55b12e37cdfe",
   "metadata": {},
   "outputs": [
    {
     "name": "stdout",
     "output_type": "stream",
     "text": [
      "True\n",
      "True\n"
     ]
    }
   ],
   "source": [
    "string1 = \"Becomes\"\n",
    "string2 = \"becomes\"\n",
    "\n",
    "print(string1.lower().startswith(\"be\"))\n",
    "print(string2.startswith(\"be\"))"
   ]
  },
  {
   "cell_type": "code",
   "execution_count": null,
   "id": "75cd1e02-9c59-401a-bc0b-2ae403803ef6",
   "metadata": {},
   "outputs": [],
   "source": []
  }
 ],
 "metadata": {
  "kernelspec": {
   "display_name": "Python 3 (ipykernel)",
   "language": "python",
   "name": "python3"
  },
  "language_info": {
   "codemirror_mode": {
    "name": "ipython",
    "version": 3
   },
   "file_extension": ".py",
   "mimetype": "text/x-python",
   "name": "python",
   "nbconvert_exporter": "python",
   "pygments_lexer": "ipython3",
   "version": "3.13.5"
  }
 },
 "nbformat": 4,
 "nbformat_minor": 5
}
