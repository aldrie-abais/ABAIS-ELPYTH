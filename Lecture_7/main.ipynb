{
 "cells": [
  {
   "cell_type": "markdown",
   "id": "a8038e94-1823-4318-a6d0-4f373d51e101",
   "metadata": {},
   "source": [
    "# 1-Review_Exercises\n",
    "\n",
    "__________"
   ]
  },
  {
   "cell_type": "code",
   "execution_count": 13,
   "id": "a14bc98f-3617-43b9-a86b-ed36db9546df",
   "metadata": {},
   "outputs": [
    {
     "name": "stdout",
     "output_type": "stream",
     "text": [
      "Hello {'Real Python'} !\n"
     ]
    }
   ],
   "source": [
    "# main.py\n",
    "\n",
    "import greeter\n",
    "\n",
    "greeter.greet(\"Real Python\")"
   ]
  },
  {
   "cell_type": "code",
   "execution_count": null,
   "id": "668260f8-ec4f-4df3-b5cb-2fcbf4238a93",
   "metadata": {},
   "outputs": [],
   "source": []
  },
  {
   "cell_type": "code",
   "execution_count": null,
   "id": "dbfc2aaa-864c-47ae-acd6-0127b502d2c5",
   "metadata": {},
   "outputs": [],
   "source": []
  }
 ],
 "metadata": {
  "kernelspec": {
   "display_name": "Python 3 (ipykernel)",
   "language": "python",
   "name": "python3"
  },
  "language_info": {
   "codemirror_mode": {
    "name": "ipython",
    "version": 3
   },
   "file_extension": ".py",
   "mimetype": "text/x-python",
   "name": "python",
   "nbconvert_exporter": "python",
   "pygments_lexer": "ipython3",
   "version": "3.13.5"
  }
 },
 "nbformat": 4,
 "nbformat_minor": 5
}
