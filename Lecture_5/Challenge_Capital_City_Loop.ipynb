{
 "cells": [
  {
   "cell_type": "markdown",
   "id": "f65a7798-0041-4684-bcf5-931b46396db3",
   "metadata": {},
   "source": [
    "# Challenge: Capital City Loop\n",
    "\n",
    "___"
   ]
  },
  {
   "cell_type": "code",
   "execution_count": 3,
   "id": "4225ec58-dee6-4906-9172-9967bfda3d13",
   "metadata": {},
   "outputs": [
    {
     "name": "stdout",
     "output_type": "stream",
     "text": [
      "The capital of  'Alabama' is 'Montgomery' \n",
      "The capital of  'Alaska' is 'Juneau' \n",
      "The capital of  'Arizona' is 'Phoenix' \n",
      "The capital of  'Arkansas' is 'Little Rock' \n",
      "The capital of  'California' is 'Sacramento' \n",
      "The capital of  'Colorado' is 'Denver' \n",
      "The capital of  'Connecticut' is 'Hartford' \n",
      "The capital of  'Delaware' is 'Dover' \n",
      "The capital of  'Florida' is 'Tallahassee' \n",
      "The capital of  'Georgia' is 'Atlanta' \n"
     ]
    }
   ],
   "source": [
    "capitals_dict = {\n",
    "    'Alabama': 'Montgomery',\n",
    "    'Alaska': 'Juneau',\n",
    "    'Arizona': 'Phoenix',\n",
    "    'Arkansas': 'Little Rock',\n",
    "    'California': 'Sacramento',\n",
    "    'Colorado': 'Denver',\n",
    "    'Connecticut': 'Hartford',\n",
    "    'Delaware': 'Dover',\n",
    "    'Florida': 'Tallahassee',\n",
    "    'Georgia': 'Atlanta',\n",
    "}\n",
    "\n",
    "for keys in capitals_dict:\n",
    "    print(f\"The capital of  '{keys}' is '{capitals_dict[keys]}' \")\n",
    "    "
   ]
  },
  {
   "cell_type": "code",
   "execution_count": null,
   "id": "226de8f1-a20e-42fc-9403-a82bc06882d0",
   "metadata": {},
   "outputs": [],
   "source": []
  }
 ],
 "metadata": {
  "kernelspec": {
   "display_name": "Python 3 (ipykernel)",
   "language": "python",
   "name": "python3"
  },
  "language_info": {
   "codemirror_mode": {
    "name": "ipython",
    "version": 3
   },
   "file_extension": ".py",
   "mimetype": "text/x-python",
   "name": "python",
   "nbconvert_exporter": "python",
   "pygments_lexer": "ipython3",
   "version": "3.13.5"
  }
 },
 "nbformat": 4,
 "nbformat_minor": 5
}
