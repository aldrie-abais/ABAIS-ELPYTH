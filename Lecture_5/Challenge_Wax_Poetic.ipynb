{
 "cells": [
  {
   "cell_type": "markdown",
   "id": "ccac7b0b-b11f-44de-b2f4-0fc010844627",
   "metadata": {},
   "source": [
    "# Challenge: Wax Poetic\n",
    "\n",
    "___"
   ]
  },
  {
   "cell_type": "code",
   "execution_count": 2,
   "id": "885bafd1-1178-47ff-9d3a-7e98486e09eb",
   "metadata": {},
   "outputs": [
    {
     "name": "stdout",
     "output_type": "stream",
     "text": [
      "Nouns: ['FOSSIL', 'HORSE', 'AARDVARK', 'JUDGE', 'CHEF', 'MANGO', 'EXTROVERT', 'GORILLA']\n",
      "Verbs: ['KICKS', 'JINGLES', 'BOUNCES', 'SLURPS', 'MEOWS', 'EXPLODES', 'CURDLES']\n",
      "Adjectives: ['FURRY', 'BALDING', 'INCREDULOUS', 'FRAGRANT', 'EXUBERANT', 'GLISTENING']\n",
      "Prepositions: ['AGAINST', 'AFTER', 'INTO', 'BENEATH', 'UPON', 'FOR', 'IN', 'LIKE', 'OVER', 'WITHIN']\n",
      "Adverbs: ['CURIOUSLY', 'FURIOUSLY', 'SENSUOUSLY', 'EXTRAVAGANTLY', 'TANTALIZINGLY']\n"
     ]
    }
   ],
   "source": [
    "nouns=[\"FOSSIL\",\"HORSE\",\"AARDVARK\",\"JUDGE\",\"CHEF\",\"MANGO\",\"EXTROVERT\",\"GORILLA\"]\n",
    "verbs=[\"KICKS\",\"JINGLES\",\"BOUNCES\",\"SLURPS\",\"MEOWS\",\"EXPLODES\",\"CURDLES\"]\n",
    "adjectives=[\"FURRY\",\"BALDING\",\"INCREDULOUS\",\"FRAGRANT\",\"EXUBERANT\",\"GLISTENING\"]\n",
    "prepositions=[\"AGAINST\",\"AFTER\",\"INTO\",\"BENEATH\",\"UPON\",\"FOR\",\"IN\",\"LIKE\",\"OVER\",\"WITHIN\"]\n",
    "adverbs=[\"CURIOUSLY\",\"FURIOUSLY\",\"SENSUOUSLY\",\"EXTRAVAGANTLY\",\"TANTALIZINGLY\"]"
   ]
  },
  {
   "cell_type": "code",
   "execution_count": null,
   "id": "88785b55-221d-48c4-a0a4-b6aefb655cd9",
   "metadata": {},
   "outputs": [],
   "source": []
  }
 ],
 "metadata": {
  "kernelspec": {
   "display_name": "Python 3 (ipykernel)",
   "language": "python",
   "name": "python3"
  },
  "language_info": {
   "codemirror_mode": {
    "name": "ipython",
    "version": 3
   },
   "file_extension": ".py",
   "mimetype": "text/x-python",
   "name": "python",
   "nbconvert_exporter": "python",
   "pygments_lexer": "ipython3",
   "version": "3.13.5"
  }
 },
 "nbformat": 4,
 "nbformat_minor": 5
}
