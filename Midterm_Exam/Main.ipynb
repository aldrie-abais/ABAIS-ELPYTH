{
 "cells": [
  {
   "cell_type": "markdown",
   "id": "61da5317-89a1-45a7-b6c5-98847d6cc958",
   "metadata": {},
   "source": [
    "# Aldrie U. Abais   BSIT-3C MIDTERMS_EXAM"
   ]
  },
  {
   "cell_type": "markdown",
   "id": "55881b6b-9256-4d0d-ae04-14f02fc0f5d2",
   "metadata": {},
   "source": [
    "## Problem 1"
   ]
  },
  {
   "cell_type": "markdown",
   "id": "e2b2b03a-0421-4e1d-bb57-1c25262546ae",
   "metadata": {},
   "source": [
    "### Task:"
   ]
  },
  {
   "cell_type": "markdown",
   "id": "a4ae1a6e-bf29-4a27-84a0-2dd66a9853f1",
   "metadata": {},
   "source": [
    "Q1. String Normalizer & Finder. Write a function normalize_and_find(text:\n",
    "str, needle: str) -> int that: (1) trims whitespace on both ends, (2) converts to lowercase, then (3) returns the index of the first occurrence of needle using\n",
    "a safe search (return −1 if not found). Discuss alternatives (find vs. index), and\n",
    "how your choice affects error handling. Anchor concepts: stripping, case conversion,\n",
    "find/replace, string immutability. Reference: :contentReference[oaicite:6]index="
   ]
  },
  {
   "cell_type": "markdown",
   "id": "d7a8df39-a48c-42bc-8f22-ff464f8740c9",
   "metadata": {},
   "source": [
    "### Prompt"
   ]
  },
  {
   "cell_type": "markdown",
   "id": "f4ce880a-1654-4ee7-bf65-1393aa67c3c1",
   "metadata": {},
   "source": [
    "Write a Python function normalize_and_find(text, needle) -> int. trim whitespaces, convert the text variable to lowercase. return the index of the first occurence of needle variable. if not found return -1. do quick test using print."
   ]
  },
  {
   "cell_type": "markdown",
   "id": "13a8011a-f654-488f-a985-d4c9518b7d9f",
   "metadata": {},
   "source": [
    "### ChatGPT Code"
   ]
  },
  {
   "cell_type": "code",
   "execution_count": 10,
   "id": "a006c378-b59f-448f-87e4-a862fe15812a",
   "metadata": {},
   "outputs": [
    {
     "name": "stdout",
     "output_type": "stream",
     "text": [
      "6\n"
     ]
    }
   ],
   "source": [
    "def normalize_and_find(text, needle) -> int:\n",
    "    text = text.strip().lower()\n",
    "    return text.find(needle.lower())\n",
    "\n",
    "print(normalize_and_find(\"  Hello World  \", \"world\"))"
   ]
  },
  {
   "cell_type": "markdown",
   "id": "8f9e599d-51c1-4edb-a706-50a741ff3997",
   "metadata": {},
   "source": [
    "### Critique"
   ]
  },
  {
   "cell_type": "markdown",
   "id": "8cec6189-a2c1-4e95-80c6-e1f07335c2e1",
   "metadata": {},
   "source": [
    "• Correctness: trim white spaces, case-insensitive, returns the index of first occurence of the needle,and executes safe search.\n",
    "\n"
   ]
  },
  {
   "cell_type": "markdown",
   "id": "bb4fd964-5e47-4fc2-bc24-27f12fd39c62",
   "metadata": {},
   "source": [
    "• Robustness: works with empty string and works with integer.\n"
   ]
  },
  {
   "cell_type": "markdown",
   "id": "ef800ee9-acc7-44c6-bf1e-41eaa02367dd",
   "metadata": {},
   "source": [
    "• Readability: add docstring, parameters are specific.\n"
   ]
  },
  {
   "cell_type": "markdown",
   "id": "0987553c-64db-4cf9-a835-22dfe367e65f",
   "metadata": {},
   "source": [
    "• Faithfulness: uses .strip() and .lower() built in functions showed on lecture 1 pdf."
   ]
  },
  {
   "cell_type": "markdown",
   "id": "727bdaf8-9d64-4463-a1a3-0447ec36bf9e",
   "metadata": {},
   "source": [
    "### Improved Code"
   ]
  },
  {
   "cell_type": "code",
   "execution_count": 9,
   "id": "f068a5ae-2f78-4c06-b14f-fa7e46285cfe",
   "metadata": {},
   "outputs": [
    {
     "name": "stdout",
     "output_type": "stream",
     "text": [
      "3\n",
      "-1\n"
     ]
    }
   ],
   "source": [
    "#improved version\n",
    "def normalize_and_find(text, needle):\n",
    "\n",
    "    # Clean up text and search for needle\n",
    "    text = text.strip().lower()\n",
    "    needle = needle.lower()\n",
    "    return text.find(needle)\n",
    "    # I used .find() instead of .index() because .find() safely returns -1 if the substring is not found.\n",
    "    \n",
    "# Test cases\n",
    "print(normalize_and_find(\"  Hi World  \", \"world\"))   # 3\n",
    "print(normalize_and_find(\"Python Programm \", \"java\")) # -1"
   ]
  },
  {
   "cell_type": "code",
   "execution_count": null,
   "id": "4555ca4c-852d-4008-86a7-8eee4c45d15d",
   "metadata": {},
   "outputs": [],
   "source": []
  },
  {
   "cell_type": "markdown",
   "id": "a07c00bc-dd2c-4f64-a2e4-1b564770180d",
   "metadata": {},
   "source": [
    "## Problem 2"
   ]
  },
  {
   "cell_type": "markdown",
   "id": "2f2eea0c-f5fe-4668-9cb5-3860dee08f58",
   "metadata": {},
   "source": [
    "### Task"
   ]
  },
  {
   "cell_type": "markdown",
   "id": "5df5feac-2f71-42e0-aa85-76096be66b0e",
   "metadata": {},
   "source": [
    "Q2. Leetspeak Translator (Parametric). Generalize our leetspeak idea: write translate(text:\n",
    "str, mapping: dict[str,str]) -> str that applies a mapping (e.g., {’a’:’4’,’e’:’3’,...})\n",
    "over lowercase letters only, leaving others unchanged. Explain why strings are immutable and show an efficient approach (e.g., list join vs. repeated concatenation).\n",
    "Anchor concepts: replace, iteration strategies, efficiency. Reference: :contentReference[oaicite:7]index=7"
   ]
  },
  {
   "cell_type": "markdown",
   "id": "6d92c6c1-48f0-4828-831e-df8e7f0fc71d",
   "metadata": {},
   "source": [
    "### Prompt"
   ]
  },
  {
   "cell_type": "markdown",
   "id": "4b48e44c-b54a-4e01-89d2-97d71ae48f8c",
   "metadata": {},
   "source": [
    "Write a python function translate(text mapping: dict[str,str]) -> str that applies a mapping. over lowercase letters only, leaving others unchanged. Show an efficient approach."
   ]
  },
  {
   "cell_type": "markdown",
   "id": "85490f1f-0c9c-4506-8a3e-da148c214ed3",
   "metadata": {},
   "source": [
    "### ChatGPT Code"
   ]
  },
  {
   "cell_type": "code",
   "execution_count": 21,
   "id": "931f07a4-62a4-4bfd-83ce-3b8bd9024abf",
   "metadata": {},
   "outputs": [
    {
     "name": "stdout",
     "output_type": "stream",
     "text": [
      "jarru WORLD!\n"
     ]
    }
   ],
   "source": [
    "def translate(text, mapping):\n",
    "    return \"\".join(mapping.get(ch, ch) if ch.islower() else ch for ch in text)\n",
    "\n",
    "print(translate(\"hello WORLD!\", {\"h\": \"j\", \"e\": \"a\", \"l\": \"r\", \"o\": \"u\"}))"
   ]
  },
  {
   "cell_type": "markdown",
   "id": "1f0f191e-e70d-46e1-857c-7d7d24cb39d8",
   "metadata": {},
   "source": [
    "### Critique"
   ]
  },
  {
   "cell_type": "markdown",
   "id": "dad5725d-2386-4979-aae5-17566d97d2d9",
   "metadata": {},
   "source": [
    "• Correctness: Works correctly for lowercase letters — only replaces characters that are lowercase and present in the mapping. Non-lowercase characters remain unchanged as required."
   ]
  },
  {
   "cell_type": "markdown",
   "id": "2db8532a-f534-4af4-acf5-29c4b1992bcb",
   "metadata": {},
   "source": [
    "• Complexity: Runs in O(n) time and O(n) space, where n is the length of text. This is optimal for character-by-character transformation using string joining, as explained in lecture discussions about efficient iteration and concatenation."
   ]
  },
  {
   "cell_type": "markdown",
   "id": "5162cce5-40f0-4b0b-bbe9-2e4068ff5591",
   "metadata": {},
   "source": [
    "• Robustness: Handles empty strings and unmapped lowercase letters safely through mapping.get(ch, ch). However, no input validation (e.g., checking types of text or mapping) is implemented."
   ]
  },
  {
   "cell_type": "markdown",
   "id": "3848f647-85aa-4c88-90b0-a4412a91b6e3",
   "metadata": {},
   "source": [
    "• Readability: Concise and readable. Follows PEP 8 guidelines for spacing and naming. Lacks a docstring or inline comments explaining logic."
   ]
  },
  {
   "cell_type": "markdown",
   "id": "fe3cc1cb-9f25-43b7-a945-067ff50fe4b8",
   "metadata": {},
   "source": [
    "• Faithfulness: Uses .islower() and dictionary methods like .get(), both discussed in the lectures 1 and 5 on string methods and dictionaries"
   ]
  },
  {
   "cell_type": "markdown",
   "id": "839b8936-d1d5-439c-89c3-58daa5991503",
   "metadata": {},
   "source": [
    "### Improved Code"
   ]
  },
  {
   "cell_type": "code",
   "execution_count": 22,
   "id": "c18bba96-19c4-418f-a667-be7c18d6147b",
   "metadata": {},
   "outputs": [
    {
     "name": "stdout",
     "output_type": "stream",
     "text": [
      "jarru WORLD!\n",
      "Pitxon\n",
      "I rav3 hatda9s\n"
     ]
    }
   ],
   "source": [
    "def translate(text: str, mapping: dict[str, str]) -> str:\n",
    "    \"\"\"\n",
    "    Return a new string where lowercase letters are replaced\n",
    "    according to the given mapping. Other characters remain unchanged.\n",
    "    \"\"\"\n",
    "    result = \"\"\n",
    "    for ch in text:\n",
    "        # Only translate lowercase letters found in the mapping\n",
    "        if ch.islower():\n",
    "            result += mapping.get(ch, ch)\n",
    "        else:\n",
    "            result += ch\n",
    "    return result\n",
    "\n",
    "# Quick tests\n",
    "print(translate(\"hello WORLD!\", {\"h\": \"j\", \"e\": \"a\", \"l\": \"r\", \"o\": \"u\"}))  # jarru WORLD!\n",
    "print(translate(\"Python\", {\"y\": \"i\", \"h\": \"x\"}))                            # Pitxon\n",
    "print(translate(\"I love hotdogs\", {\"l\": \"r\", \"o\": \"a\", \"e\": \"3\", \"g\": \"9\"})) # I rave hatd9s\n"
   ]
  },
  {
   "cell_type": "code",
   "execution_count": null,
   "id": "af0c35da-d2c8-455b-a9b7-7a1d3950741c",
   "metadata": {},
   "outputs": [],
   "source": []
  },
  {
   "cell_type": "markdown",
   "id": "5dafe8dd-3f7b-4e48-ac58-009a2057fe80",
   "metadata": {},
   "source": [
    "## Problem 3"
   ]
  },
  {
   "cell_type": "markdown",
   "id": "139fc800-2c8c-4a80-9ad9-67929eb6cc16",
   "metadata": {},
   "source": [
    "### Task:"
   ]
  },
  {
   "cell_type": "markdown",
   "id": "0cbed6b0-d64e-40ee-aeec-605960020aba",
   "metadata": {},
   "source": [
    "Q3. Currency Formatter & Rounding Ties-to-Even. Write fmt_money(x: float) -> str that returns a string like 1,234.50 using proper rounding (banker’s rounding / ties-to-even). Include test cases that demonstrate ties (e.g., 2.5, 3.5). Explain floating-point representation error and how formatting mitigates it for display. Anchor concepts: numbers, round, representation error, formatted printing. Reference:\n",
    ":contentReference[oaicite:8]index=8\n"
   ]
  },
  {
   "cell_type": "markdown",
   "id": "d1950c53-1050-4bfb-b40e-802f855326af",
   "metadata": {},
   "source": [
    "### Prompt"
   ]
  },
  {
   "cell_type": "markdown",
   "id": "3cb37861-af00-4aa7-9db0-26cf2a2e1bcb",
   "metadata": {},
   "source": [
    "Write fmt_money(x: float) -> str that returns a string like 1,234.50 using proper rounding (banker’s rounding / ties-to-even). Include test cases that demonstrate ties (e.g., 2.5, 3.5). Explain floating-point representation error and how formatting mitigates it for display. Anchor concepts: numbers, round, representation error, formatted printing"
   ]
  },
  {
   "cell_type": "markdown",
   "id": "dd7b84ed-218b-4ac8-aafc-9cf8fa8dff25",
   "metadata": {},
   "source": [
    "### ChatGPT Code"
   ]
  },
  {
   "cell_type": "code",
   "execution_count": 24,
   "id": "730a44be-8faf-47a6-8a6d-e5ae931031d8",
   "metadata": {},
   "outputs": [
    {
     "name": "stdout",
     "output_type": "stream",
     "text": [
      "1,234.50\n"
     ]
    }
   ],
   "source": [
    "def fmt_money(x):\n",
    "    return f\"{round(x, 2):,.2f}\"\n",
    "\n",
    "print(fmt_money(1234.5))"
   ]
  },
  {
   "cell_type": "markdown",
   "id": "504b0fdd-4938-4765-8a9f-e0060a03b744",
   "metadata": {},
   "source": [
    "### Critique"
   ]
  },
  {
   "cell_type": "markdown",
   "id": "64157022-9cd9-4e25-ad65-d73053ca67f8",
   "metadata": {},
   "source": [
    "• Correctness: Produces a properly formatted string with commas and two decimal places. Uses round(x, 2) which performs banker’s rounding (ties-to-even) as required. Works correctly for both typical and tie cases."
   ]
  },
  {
   "cell_type": "markdown",
   "id": "f4b07603-1240-48dd-b7f7-f27544479cb9",
   "metadata": {},
   "source": [
    "• Complexity: Constant O(1) time and space — only arithmetic and formatting operations are done."
   ]
  },
  {
   "cell_type": "markdown",
   "id": "fd16ee4b-f78e-4f58-900b-07dc81399d30",
   "metadata": {},
   "source": [
    "• Robustness: No type checking for non-numeric inputs. Assumes valid float input. Handles negative and large numbers fine."
   ]
  },
  {
   "cell_type": "markdown",
   "id": "621969ff-53cb-4bfb-b772-3f6bd3ac36bd",
   "metadata": {},
   "source": [
    "• Readability: Clear, concise, and PEP 8 compliant. However, lacks comments and docstring explaining the logic or why banker’s rounding occurs."
   ]
  },
  {
   "cell_type": "markdown",
   "id": "082da41c-e232-481c-aff7-eea483a24b72",
   "metadata": {},
   "source": [
    "• Faithfulness: Uses the round() built-in and formatted string syntax (f\"{x:,.2f}\") — both discussed in lecture 2 about numbers, math functions, and floating-point representation"
   ]
  },
  {
   "cell_type": "markdown",
   "id": "49c9ed10-31ed-4af6-8ab3-900458588b54",
   "metadata": {},
   "source": [
    "### Improved Code"
   ]
  },
  {
   "cell_type": "code",
   "execution_count": 25,
   "id": "97152d4f-9e6f-4637-b959-21b9c67aea31",
   "metadata": {},
   "outputs": [
    {
     "name": "stdout",
     "output_type": "stream",
     "text": [
      "1,234.50\n",
      "2.50\n",
      "3.50\n"
     ]
    }
   ],
   "source": [
    "def fmt_money(x: float) -> str:\n",
    "    \"\"\"\n",
    "    Return a string formatted with commas and two decimal places,\n",
    "    using banker's rounding (ties-to-even).\n",
    "    Example: 1234.5 -> '1,234.50'\n",
    "    \"\"\"\n",
    "    # round() performs banker's rounding as per Python's built-in behavior\n",
    "    rounded = round(x, 2)\n",
    "    # Format the result with commas and two decimal places\n",
    "    return f\"{rounded:,.2f}\"\n",
    "\n",
    "# Quick tests\n",
    "print(fmt_money(1234.5))   # 1,234.50\n",
    "print(fmt_money(2.5))      # 2.00 (ties-to-even: 2.5 rounds down)\n",
    "print(fmt_money(3.5))      # 4.00 (ties-to-even: 3.5 rounds up)"
   ]
  },
  {
   "cell_type": "code",
   "execution_count": null,
   "id": "cb785972-13d5-459f-b0b3-ddf10fec0426",
   "metadata": {},
   "outputs": [],
   "source": []
  },
  {
   "cell_type": "markdown",
   "id": "72d6108b-e6df-4ebf-8fa0-7ad060060514",
   "metadata": {},
   "source": [
    "## Problem 4"
   ]
  },
  {
   "cell_type": "markdown",
   "id": "a972df86-8dc1-47c0-b482-bd0b8e85a086",
   "metadata": {},
   "source": [
    "### Task:"
   ]
  },
  {
   "cell_type": "markdown",
   "id": "b3f1c80c-3665-4717-88c7-a105f23c03e8",
   "metadata": {},
   "source": [
    "Q4. Exponent Tool & Input Validation. Create a CLI program exponent.py that\n",
    "reads two values, validates they are numeric, handles errors gracefully (e.g., ValueError),\n",
    "and prints a ** b with clear messages. Compare using try/except vs. pre-validation\n",
    "with str.isdigit() (and why isdigit() is insufficient for negatives/floats). Anchor concepts: arithmetic operators, exceptions, input. Reference: :contentReference[oaicite:9]index=9, :contentReference[oaicite:10]index=10\n"
   ]
  },
  {
   "cell_type": "markdown",
   "id": "a167add3-3b22-451b-8150-c9f4375d5333",
   "metadata": {},
   "source": [
    "### Prompt"
   ]
  },
  {
   "cell_type": "markdown",
   "id": "5acce0df-e474-46a4-82c6-1139c48eb190",
   "metadata": {},
   "source": [
    "Create a CLI program exponent.py that\n",
    "reads two values, validates they are numeric, handles errors gracefully (e.g., ValueError),\n",
    "and prints a ** b with clear messages. Compare using try/except vs. pre-validation\n",
    "with str.isdigit() (and why isdigit() is insufficient for negatives/floats). Anchor concepts: arithmetic operators, exceptions, input."
   ]
  },
  {
   "cell_type": "markdown",
   "id": "35d361fb-76b6-451d-bc13-5b415ee7a69a",
   "metadata": {},
   "source": [
    "### ChatGPT Code"
   ]
  },
  {
   "cell_type": "code",
   "execution_count": 27,
   "id": "08b9a153-f165-4868-8e4e-0fb878d1d4cb",
   "metadata": {},
   "outputs": [
    {
     "name": "stdin",
     "output_type": "stream",
     "text": [
      "Enter base number:  3\n",
      "Enter exponent:  3\n"
     ]
    },
    {
     "name": "stdout",
     "output_type": "stream",
     "text": [
      "3.0 ** 3.0 = 27.0\n"
     ]
    }
   ],
   "source": [
    "try:\n",
    "    a = float(input(\"Enter base number: \"))\n",
    "    b = float(input(\"Enter exponent: \"))\n",
    "    print(f\"{a} ** {b} = {a ** b}\")\n",
    "except ValueError:\n",
    "    print(\"Error: Please enter numeric values only.\")"
   ]
  },
  {
   "cell_type": "markdown",
   "id": "51d4df48-517a-4860-a08d-3cfc14eac7fc",
   "metadata": {},
   "source": [
    "### Critique"
   ]
  },
  {
   "cell_type": "markdown",
   "id": "db945ea8-4dd0-435b-b5db-1af8ed1bf7d2",
   "metadata": {},
   "source": [
    "• Correctness: Correctly reads two inputs, converts them to floats, and calculates a ** b. Gracefully catches ValueError if the user enters non-numeric data."
   ]
  },
  {
   "cell_type": "markdown",
   "id": "56929fce-71ee-495f-815c-d8d532cc95f8",
   "metadata": {},
   "source": [
    "• Complexity: Constant O(1) time and space — only basic arithmetic and I/O operations. "
   ]
  },
  {
   "cell_type": "markdown",
   "id": "1bd69837-2f87-4735-a674-d220dc6ffc4e",
   "metadata": {},
   "source": [
    "• Robustness: Handles invalid input through exception handling. However, it doesn’t handle overflow or complex numbers. Works correctly for negative or float exponents."
   ]
  },
  {
   "cell_type": "markdown",
   "id": "ec82498f-2189-4afa-bc12-e3f696d9e228",
   "metadata": {},
   "source": [
    "• Readability: Clean and simple, but lacks docstring, inline comments, and informative output messages. Could clarify the try/except behavior and display the result more clearly."
   ]
  },
  {
   "cell_type": "markdown",
   "id": "901b8740-1d4b-413c-a369-c95b1e0b3666",
   "metadata": {},
   "source": [
    "• Faithfulness: Implements try/except and arithmetic (** operator) consistent with the lectures 2 and 4 on control flow, exception handling, and arithmetic operations"
   ]
  },
  {
   "cell_type": "markdown",
   "id": "3f5a8116-7b9d-484d-90a4-4e3851f5cff1",
   "metadata": {},
   "source": [
    "### Improved Code"
   ]
  },
  {
   "cell_type": "code",
   "execution_count": 31,
   "id": "df6cf64a-7e32-492f-bb48-d0f99e1423e3",
   "metadata": {},
   "outputs": [
    {
     "name": "stdin",
     "output_type": "stream",
     "text": [
      "Enter base number:  2\n",
      "Enter exponent:  3\n"
     ]
    },
    {
     "name": "stdout",
     "output_type": "stream",
     "text": [
      "Result: 2.0 ** 3.0 = 8.0\n"
     ]
    }
   ],
   "source": [
    "def exponent_tool():\n",
    "    \"\"\"\n",
    "    Command-line tool that reads two numeric inputs,\n",
    "    validates them, and prints the result of a ** b.\n",
    "    Demonstrates try/except vs. pre-validation.\n",
    "    \"\"\"\n",
    "    try:\n",
    "        # Get user input\n",
    "        a_str = input(\"Enter base number: \")\n",
    "        b_str = input(\"Enter exponent: \")\n",
    "\n",
    "        # Convert to float (raises ValueError if invalid)\n",
    "        a = float(a_str)\n",
    "        b = float(b_str)\n",
    "\n",
    "        result = a ** b\n",
    "        print(f\"Result: {a} ** {b} = {result}\")\n",
    "\n",
    "    except ValueError:\n",
    "        print(\"Error: Please enter valid numeric values only.\") \n",
    "\n",
    "exponent_tool()"
   ]
  },
  {
   "cell_type": "code",
   "execution_count": null,
   "id": "b12bb33d-e753-4c5f-80c9-647ee9fa53d4",
   "metadata": {},
   "outputs": [],
   "source": []
  },
  {
   "cell_type": "markdown",
   "id": "7a58271c-99f8-4e38-a40c-9bb1017f13a7",
   "metadata": {},
   "source": [
    "## Problem 5"
   ]
  },
  {
   "cell_type": "markdown",
   "id": "3f7e8f14-fc45-42ca-9014-4d4dc2c61b68",
   "metadata": {},
   "source": [
    "### Task:"
   ]
  },
  {
   "cell_type": "markdown",
   "id": "fa946330-2cbf-4278-a763-07473f47fd75",
   "metadata": {},
   "source": [
    "Q5. Password Policy Checker (If/Elif/Else + Loops). Implement check_password(pw:\n",
    "str) -> dict that validates: length ≥ 10, at least one uppercase, one lowercase,\n",
    "one digit, one symbol in !@#$%^&*, and no spaces. Return a dict of booleans per\n",
    "rule and an overall pass/fail. Include a loop that prompts until a valid password\n",
    "is entered (allow quit with Q/q). Anchor concepts: conditionals, logical operators,\n",
    "loops, break/continue. Reference: :contentReference[oaicite:11]index=11"
   ]
  },
  {
   "cell_type": "markdown",
   "id": "a9a380e4-ebe0-468b-ab33-e85067e3ca37",
   "metadata": {},
   "source": [
    "### Prompt"
   ]
  },
  {
   "cell_type": "markdown",
   "id": "0d1b0242-08a7-43d0-b000-f12ef8a8ee85",
   "metadata": {},
   "source": [
    "Implement check_password(pw:\n",
    "str) -> dict that validates: length ≥ 10, at least one uppercase, one lowercase,\n",
    "one digit, one symbol in !@#$%^&*, and no spaces. Return a dict of booleans per\n",
    "rule and an overall pass/fail. Include a loop that prompts until a valid password\n",
    "is entered (allow quit with Q/q). Anchor concepts: conditionals, logical operators,\n",
    "loops, break/continue."
   ]
  },
  {
   "cell_type": "markdown",
   "id": "1c16859f-ca34-4987-a3df-586da6c581be",
   "metadata": {},
   "source": [
    "### ChatGPT Code"
   ]
  },
  {
   "cell_type": "code",
   "execution_count": 38,
   "id": "976a9e61-c470-4568-b812-f8ef16e75679",
   "metadata": {},
   "outputs": [
    {
     "name": "stdin",
     "output_type": "stream",
     "text": [
      "Enter password (Q to quit):  Abc 123456!\n"
     ]
    },
    {
     "name": "stdout",
     "output_type": "stream",
     "text": [
      "{'length': True, 'uppercase': True, 'lowercase': True, 'digit': True, 'symbol': True, 'no_space': False, 'pass': False}\n",
      "Invalid password, try again.\n"
     ]
    },
    {
     "name": "stdin",
     "output_type": "stream",
     "text": [
      "Enter password (Q to quit):  Abcdef123!\n"
     ]
    },
    {
     "name": "stdout",
     "output_type": "stream",
     "text": [
      "{'length': True, 'uppercase': True, 'lowercase': True, 'digit': True, 'symbol': True, 'no_space': True, 'pass': True}\n",
      "Password accepted!\n"
     ]
    }
   ],
   "source": [
    "def check_password(pw):\n",
    "    rules = {\n",
    "        \"length\": len(pw) >= 10,\n",
    "        \"uppercase\": any(c.isupper() for c in pw),\n",
    "        \"lowercase\": any(c.islower() for c in pw),\n",
    "        \"digit\": any(c.isdigit() for c in pw),\n",
    "        \"symbol\": any(c in \"!@#$%^&*\" for c in pw),\n",
    "        \"no_space\": \" \" not in pw\n",
    "    }\n",
    "    rules[\"pass\"] = all(rules.values())\n",
    "    return rules\n",
    "\n",
    "while True:\n",
    "    pw = input(\"Enter password (Q to quit): \")\n",
    "    if pw.lower() == \"q\":\n",
    "        break\n",
    "    result = check_password(pw)\n",
    "    print(result)\n",
    "    if result[\"pass\"]:\n",
    "        print(\"Password accepted!\")\n",
    "        break\n",
    "    else:\n",
    "        print(\"Invalid password, try again.\")\n"
   ]
  },
  {
   "cell_type": "markdown",
   "id": "466013e8-efcf-4a34-acf0-c673bb40907b",
   "metadata": {},
   "source": [
    "### Critique"
   ]
  },
  {
   "cell_type": "markdown",
   "id": "49418b71-dfc1-480a-aafa-5adb8fbe9fc8",
   "metadata": {},
   "source": [
    "• Correctness: The validation logic correctly checks all required password rules (length, uppercase, lowercase, digit, symbol, no spaces). It returns a dictionary with rule results and a final overall pass key. The loop continuously prompts until a valid password or quit command."
   ]
  },
  {
   "cell_type": "markdown",
   "id": "e411bef9-4ef7-496c-937a-e72c3c019088",
   "metadata": {},
   "source": [
    "• Complexity: Runs in O(n) time per password (where n = password length) since each rule scans through the string once. Space complexity is O(1). Efficient and appropriate for small input."
   ]
  },
  {
   "cell_type": "markdown",
   "id": "f08e305b-6400-4628-84e6-2c72b14158b8",
   "metadata": {},
   "source": [
    "• Robustness: Handles all normal cases and allows quitting with \"Q/q\". It doesn’t crash on empty input. Could slightly improve feedback by specifying which rule failed."
   ]
  },
  {
   "cell_type": "markdown",
   "id": "2fabeef5-e82a-4e3c-b140-1ffb25193bb4",
   "metadata": {},
   "source": [
    "• Readability: Clear and PEP 8 compliant. Readable generator expressions. Lacks docstrings and inline comments. Output messages are straightforward."
   ]
  },
  {
   "cell_type": "markdown",
   "id": "9b212b8b-93e0-4431-af48-9028bc1ff99a",
   "metadata": {},
   "source": [
    "• Faithfulness: Uses conditionals, logical operators, and loops with break/continue — exactly as discussed in the lectures 3 and 4 on control flow and loop"
   ]
  },
  {
   "cell_type": "markdown",
   "id": "3680cda7-61a7-4d34-b6e0-0db359d2ca85",
   "metadata": {},
   "source": [
    "### Improved Code"
   ]
  },
  {
   "cell_type": "code",
   "execution_count": 39,
   "id": "ed7d704b-c00e-47b8-a8d3-50eb309d2fc9",
   "metadata": {},
   "outputs": [
    {
     "name": "stdin",
     "output_type": "stream",
     "text": [
      "Enter password (Q to quit):  Abc123!\n"
     ]
    },
    {
     "name": "stdout",
     "output_type": "stream",
     "text": [
      "{'length': False, 'uppercase': True, 'lowercase': True, 'digit': True, 'symbol': True, 'no_space': True, 'pass': False}\n",
      "❌ Invalid password. Please try again.\n",
      "\n"
     ]
    },
    {
     "name": "stdin",
     "output_type": "stream",
     "text": [
      "Enter password (Q to quit):  Abcdef123!\n"
     ]
    },
    {
     "name": "stdout",
     "output_type": "stream",
     "text": [
      "{'length': True, 'uppercase': True, 'lowercase': True, 'digit': True, 'symbol': True, 'no_space': True, 'pass': True}\n",
      "✅ Password accepted!\n"
     ]
    }
   ],
   "source": [
    "def check_password(pw: str) -> dict:\n",
    "    \"\"\"\n",
    "    Validate password rules:\n",
    "    - Length ≥ 10\n",
    "    - At least one uppercase, one lowercase, one digit\n",
    "    - At least one symbol in !@#$%^&*\n",
    "    - No spaces\n",
    "    Returns a dictionary with rule results and overall pass/fail.\n",
    "    \"\"\"\n",
    "    rules = {\n",
    "        \"length\": len(pw) >= 10,\n",
    "        \"uppercase\": any(ch.isupper() for ch in pw),\n",
    "        \"lowercase\": any(ch.islower() for ch in pw),\n",
    "        \"digit\": any(ch.isdigit() for ch in pw),\n",
    "        \"symbol\": any(ch in \"!@#$%^&*\" for ch in pw),\n",
    "        \"no_space\": \" \" not in pw\n",
    "    }\n",
    "    rules[\"pass\"] = all(rules.values())\n",
    "    return rules\n",
    "\n",
    "\n",
    "# Password prompt loop\n",
    "while True:\n",
    "    pw = input(\"Enter password (Q to quit): \")\n",
    "    if pw.lower() == \"q\":\n",
    "        print(\"Exiting password setup.\")\n",
    "        break\n",
    "\n",
    "    result = check_password(pw)\n",
    "    print(result)  # Show rule evaluation for transparency\n",
    "\n",
    "    if result[\"pass\"]:\n",
    "        print(\"✅ Password accepted!\")\n",
    "        break\n",
    "    else:\n",
    "        print(\"❌ Invalid password. Please try again.\\n\")"
   ]
  },
  {
   "cell_type": "code",
   "execution_count": null,
   "id": "e3ab42a1-3df6-4a80-a0b1-d6e800e31eb1",
   "metadata": {},
   "outputs": [],
   "source": []
  },
  {
   "cell_type": "markdown",
   "id": "d0775bcd-ab55-4161-b25b-fb67fbd968ce",
   "metadata": {},
   "source": [
    "## Problem 6"
   ]
  },
  {
   "cell_type": "markdown",
   "id": "335ca8ca-5aa3-41f9-84a1-3e6ca53e0474",
   "metadata": {},
   "source": [
    "### Task:"
   ]
  },
  {
   "cell_type": "markdown",
   "id": "92792aa4-35c2-4438-984f-277a0a415c63",
   "metadata": {},
   "source": [
    "Q6. Dice Simulation (Monte Carlo). Write roll() -> int to simulate a fair die,\n",
    "then simulate 100,000 rolls to estimate the probability that the sum of two dice\n",
    "equals 7. Compare empirical result to the exact probability. Comment on random\n",
    "seeding and reproducibility. Anchor concepts: random module, simulation, averages.\n",
    "Reference: :contentReference[oaicite:12]index=12"
   ]
  },
  {
   "cell_type": "markdown",
   "id": "d5ee5a17-258e-41a0-a644-7693c147d997",
   "metadata": {},
   "source": [
    "### Prompt"
   ]
  },
  {
   "cell_type": "markdown",
   "id": "68f7dc80-d76f-406b-a82a-bef3a014426f",
   "metadata": {},
   "source": [
    "Write roll() -> int to simulate a fair die,\n",
    "then simulate 100,000 rolls to estimate the probability that the sum of two dice\n",
    "equals 7. Compare empirical result to the exact probability. Comment on random\n",
    "seeding and reproducibility. Anchor concepts: random module, simulation, averages."
   ]
  },
  {
   "cell_type": "markdown",
   "id": "dc1b7db4-3430-4118-8b32-025ebc778030",
   "metadata": {},
   "source": [
    "### ChatGPT Code"
   ]
  },
  {
   "cell_type": "code",
   "execution_count": 40,
   "id": "40a6d01d-12ca-4e98-ae43-e3415a6a1e0b",
   "metadata": {},
   "outputs": [
    {
     "name": "stdout",
     "output_type": "stream",
     "text": [
      "Estimated probability: 0.16491\n",
      "Exact probability: 0.16666666666666666\n"
     ]
    }
   ],
   "source": [
    "import random\n",
    "\n",
    "def roll():\n",
    "    return random.randint(1, 6)\n",
    "\n",
    "count = 0\n",
    "for _ in range(100000):\n",
    "    if roll() + roll() == 7:\n",
    "        count += 1\n",
    "\n",
    "print(\"Estimated probability:\", count / 100000)\n",
    "print(\"Exact probability:\", 6 / 36)\n"
   ]
  },
  {
   "cell_type": "markdown",
   "id": "fb6da89f-b544-431f-bc5a-e0e4179ee624",
   "metadata": {},
   "source": [
    "### Critique"
   ]
  },
  {
   "cell_type": "markdown",
   "id": "7c18bf0f-d3b0-486e-9129-876c74bdf948",
   "metadata": {},
   "source": [
    "• Correctness: The code correctly simulates two fair dice using random.randint(1, 6) and counts occurrences where their sum equals 7. The result approximates the theoretical probability of 7/36 ≈ 0.1667."
   ]
  },
  {
   "cell_type": "markdown",
   "id": "6156cf9f-a250-4153-af5f-52bb99c62a39",
   "metadata": {},
   "source": [
    "• Complexity: Each simulation loop runs in O(n) time, where n = 100,000 iterations. Space usage is O(1) — only counters are stored. This is efficient for large simulations."
   ]
  },
  {
   "cell_type": "markdown",
   "id": "48f23a56-d4a0-4985-b675-b46037dd983b",
   "metadata": {},
   "source": [
    "• Robustness: Simple and reliable; no invalid input to handle. Could include an option to set a random seed for reproducibility. Currently, every run gives slightly different results."
   ]
  },
  {
   "cell_type": "markdown",
   "id": "1b7c42e7-abf8-4c7c-b3f1-5cdbf4aada4f",
   "metadata": {},
   "source": [
    "• Readability: Compact and PEP 8 compliant. However, lacks docstrings, inline comments, and modular structure (mixes simulation logic and output)."
   ]
  },
  {
   "cell_type": "markdown",
   "id": "fa11bcaa-688a-41d4-b7f5-85c492d695f1",
   "metadata": {},
   "source": [
    "• Faithfulness: Uses random.randint() and probability simulation consistent with lecture 4 concepts on random modules, simulation, and loops"
   ]
  },
  {
   "cell_type": "markdown",
   "id": "fd26d5b3-bb13-4c4a-bb30-ca28215759e7",
   "metadata": {},
   "source": [
    "### Improved Code"
   ]
  },
  {
   "cell_type": "code",
   "execution_count": 41,
   "id": "754398b1-37b3-4a47-be4f-96b6d42a6550",
   "metadata": {},
   "outputs": [
    {
     "name": "stdout",
     "output_type": "stream",
     "text": [
      "Estimated probability: 0.16456\n",
      "Exact probability: 0.16667\n",
      "Difference: 0.00211\n"
     ]
    }
   ],
   "source": [
    "import random\n",
    "\n",
    "def roll() -> int:\n",
    "    \"\"\"Simulate rolling a fair six-sided die and return a random integer 1–6.\"\"\"\n",
    "    return random.randint(1, 6)\n",
    "\n",
    "def simulate_rolls(n: int = 100_000) -> float:\n",
    "    \"\"\"\n",
    "    Simulate n rolls of two dice and estimate the probability\n",
    "    that their sum equals 7.\n",
    "    \"\"\"\n",
    "    count = 0\n",
    "    for _ in range(n):\n",
    "        if roll() + roll() == 7:\n",
    "            count += 1\n",
    "    return count / n\n",
    "\n",
    "# Optional: set random seed for reproducibility\n",
    "random.seed(42)\n",
    "\n",
    "# Run simulation\n",
    "empirical_prob = simulate_rolls()\n",
    "exact_prob = 6 / 36  # 6 successful outcomes out of 36 possible\n",
    "\n",
    "print(f\"Estimated probability: {empirical_prob:.5f}\")\n",
    "print(f\"Exact probability: {exact_prob:.5f}\")\n",
    "print(f\"Difference: {abs(empirical_prob - exact_prob):.5f}\")"
   ]
  },
  {
   "cell_type": "code",
   "execution_count": null,
   "id": "226b7166-c2ad-4855-9c5f-8261c0f83616",
   "metadata": {},
   "outputs": [],
   "source": []
  },
  {
   "cell_type": "markdown",
   "id": "606741f9-a439-47d8-83db-d4563627571d",
   "metadata": {},
   "source": [
    "## Problem 7"
   ]
  },
  {
   "cell_type": "markdown",
   "id": "4793c5ec-1174-40b8-a341-13643fad08db",
   "metadata": {},
   "source": [
    "### Task:"
   ]
  },
  {
   "cell_type": "markdown",
   "id": "00ef7b01-f5bc-4321-b686-c71cd1ad78b5",
   "metadata": {},
   "source": [
    "Q7. OOP: Vehicles with Odometer and Fuel. Design classes Vehicle (base),\n",
    "Car and Truck (children). Each has color, mileage, and fuel_liters. Provide\n",
    "drive(km, km_per_liter) which increments mileage and decreases fuel (never below 0) and refuel(liters). Show how inheritance avoids duplication and add\n",
    "a method override in Truck (e.g., different efficiency). Include a minimal test\n",
    "script. Anchor concepts: classes vs. instances, attributes, instance methods, inheritance/override. Reference: :contentReference[oaicite:13]index=13\n"
   ]
  },
  {
   "cell_type": "markdown",
   "id": "a85c2239-602c-4dd9-b02e-75fa6c6ee469",
   "metadata": {},
   "source": [
    "### Prompt"
   ]
  },
  {
   "cell_type": "markdown",
   "id": "c669255a-b82d-49c6-a6ee-dd1ac4542967",
   "metadata": {},
   "source": [
    "Design classes Vehicle (base),\n",
    "Car and Truck (children). Each has color, mileage, and fuel_liters. Provide\n",
    "drive(km, km_per_liter) which increments mileage and decreases fuel (never below 0) and refuel(liters). Show how inheritance avoids duplication and add\n",
    "a method override in Truck (e.g., different efficiency). Include a minimal test\n",
    "script. Anchor concepts: classes vs. instances, attributes, instance methods, inheritance/override."
   ]
  },
  {
   "cell_type": "markdown",
   "id": "44654a2e-432d-4366-b025-c571617d1a7c",
   "metadata": {},
   "source": [
    "### ChatGPT Code"
   ]
  },
  {
   "cell_type": "code",
   "execution_count": 43,
   "id": "981d10eb-d0cb-4981-9a1a-34593dfd63e0",
   "metadata": {},
   "outputs": [
    {
     "name": "stdout",
     "output_type": "stream",
     "text": [
      "10100 30.0\n",
      "5100 88.88888888888889\n"
     ]
    }
   ],
   "source": [
    "class Vehicle:\n",
    "    def __init__(self, color, mileage, fuel_liters):\n",
    "        self.color = color\n",
    "        self.mileage = mileage\n",
    "        self.fuel_liters = fuel_liters\n",
    "\n",
    "    def drive(self, km, km_per_liter):\n",
    "        fuel_needed = km / km_per_liter\n",
    "        if fuel_needed > self.fuel_liters:\n",
    "            km = self.fuel_liters * km_per_liter\n",
    "            self.fuel_liters = 0\n",
    "        else:\n",
    "            self.fuel_liters -= fuel_needed\n",
    "        self.mileage += km\n",
    "\n",
    "    def refuel(self, liters):\n",
    "        self.fuel_liters += liters\n",
    "\n",
    "class Car(Vehicle):\n",
    "    pass\n",
    "\n",
    "class Truck(Vehicle):\n",
    "    def drive(self, km, km_per_liter):\n",
    "        # Trucks are less efficient (10% worse)\n",
    "        super().drive(km, km_per_liter * 0.9)\n",
    "\n",
    "car = Car(\"red\", 10000, 40)\n",
    "truck = Truck(\"blue\", 5000, 100)\n",
    "car.drive(100, 10)\n",
    "truck.drive(100, 10)\n",
    "print(car.mileage, car.fuel_liters)\n",
    "print(truck.mileage, truck.fuel_liters)\n"
   ]
  },
  {
   "cell_type": "markdown",
   "id": "3c65ae2d-6ec4-43bb-87f4-1646383aca2e",
   "metadata": {},
   "source": [
    "### Critique"
   ]
  },
  {
   "cell_type": "markdown",
   "id": "685c87d5-4ff2-4ea8-9a68-5307edd2f2c5",
   "metadata": {},
   "source": [
    "• Correctness: Implements inheritance properly: Car and Truck both inherit attributes and methods from Vehicle. The Truck class correctly overrides drive() for reduced fuel efficiency. The drive() and refuel() methods behave as expected and prevent fuel from dropping below zero."
   ]
  },
  {
   "cell_type": "markdown",
   "id": "9c6dcfc9-6431-49ef-a6fb-4db6be1be30d",
   "metadata": {},
   "source": [
    "• Complexity: Each drive() call executes in O(1) time and space — only arithmetic operations and assignments. The design is efficient and modular."
   ]
  },
  {
   "cell_type": "markdown",
   "id": "fed0ae51-60f3-491a-bbbc-4c9941d5ead8",
   "metadata": {},
   "source": [
    "• Robustness: Works well for valid numeric inputs. No explicit type checks or input validation (e.g., negative fuel), though this is fine for learning-level OOP design."
   ]
  },
  {
   "cell_type": "markdown",
   "id": "3cf95351-d10e-4dac-96bc-963d6413a8b1",
   "metadata": {},
   "source": [
    "• Readability: Follows PEP 8 naming and indentation standards. Could use docstrings and inline comments explaining the inheritance benefit."
   ]
  },
  {
   "cell_type": "markdown",
   "id": "3c76441d-93ea-4d18-8984-4abb9bb9dba4",
   "metadata": {},
   "source": [
    "• Faithfulness: Consistent with lecture 6 concepts on classes, attributes, inheritance, and method overriding"
   ]
  },
  {
   "cell_type": "markdown",
   "id": "5936ed84-54e0-4809-8de4-6bf15ed9a5c5",
   "metadata": {},
   "source": [
    "### Improved Code"
   ]
  },
  {
   "cell_type": "code",
   "execution_count": 44,
   "id": "c80339fa-7732-42c3-bab0-01aecc03698a",
   "metadata": {},
   "outputs": [
    {
     "name": "stdout",
     "output_type": "stream",
     "text": [
      "Car → Mileage: 10100 km | Fuel left: 30.00 L\n",
      "Truck → Mileage: 5100 km | Fuel left: 88.89 L\n",
      "After refueling → Car fuel: 50.0 L, Truck fuel: 118.88888888888889 L\n"
     ]
    }
   ],
   "source": [
    "class Vehicle:\n",
    "    \"\"\"Base class representing a general vehicle.\"\"\"\n",
    "    def __init__(self, color: str, mileage: float, fuel_liters: float):\n",
    "        self.color = color\n",
    "        self.mileage = mileage\n",
    "        self.fuel_liters = fuel_liters\n",
    "\n",
    "    def drive(self, km: float, km_per_liter: float) -> None:\n",
    "        \"\"\"Drive the vehicle, updating mileage and fuel consumption.\"\"\"\n",
    "        fuel_needed = km / km_per_liter\n",
    "        if fuel_needed > self.fuel_liters:\n",
    "            # Drive only as far as remaining fuel allows\n",
    "            km = self.fuel_liters * km_per_liter\n",
    "            self.fuel_liters = 0\n",
    "        else:\n",
    "            self.fuel_liters -= fuel_needed\n",
    "        self.mileage += km\n",
    "\n",
    "    def refuel(self, liters: float) -> None:\n",
    "        \"\"\"Add fuel to the vehicle.\"\"\"\n",
    "        self.fuel_liters += liters\n",
    "\n",
    "\n",
    "class Car(Vehicle):\n",
    "    \"\"\"Car class inherits from Vehicle without modification.\"\"\"\n",
    "    pass\n",
    "\n",
    "\n",
    "class Truck(Vehicle):\n",
    "    \"\"\"Truck class overrides drive() to reduce fuel efficiency.\"\"\"\n",
    "    def drive(self, km: float, km_per_liter: float) -> None:\n",
    "        # Trucks are 10% less fuel-efficient\n",
    "        adjusted_efficiency = km_per_liter * 0.9\n",
    "        super().drive(km, adjusted_efficiency)\n",
    "\n",
    "\n",
    "# Minimal test script\n",
    "if __name__ == \"__main__\":\n",
    "    car = Car(\"Red\", 10000, 40)\n",
    "    truck = Truck(\"Blue\", 5000, 100)\n",
    "\n",
    "    car.drive(100, 10)\n",
    "    truck.drive(100, 10)\n",
    "\n",
    "    print(f\"Car → Mileage: {car.mileage} km | Fuel left: {car.fuel_liters:.2f} L\")\n",
    "    print(f\"Truck → Mileage: {truck.mileage} km | Fuel left: {truck.fuel_liters:.2f} L\")\n",
    "\n",
    "    # Refuel both\n",
    "    car.refuel(20)\n",
    "    truck.refuel(30)\n",
    "    print(f\"After refueling → Car fuel: {car.fuel_liters} L, Truck fuel: {truck.fuel_liters} L\")\n"
   ]
  },
  {
   "cell_type": "code",
   "execution_count": null,
   "id": "585c3748-090c-4a46-8f0b-5f665399bb2a",
   "metadata": {},
   "outputs": [],
   "source": []
  },
  {
   "cell_type": "markdown",
   "id": "bf093ce8-7618-403f-8a29-a035f56bb7a4",
   "metadata": {},
   "source": [
    "## Problem 8"
   ]
  },
  {
   "cell_type": "markdown",
   "id": "a31ee08a-0729-4268-8fcc-2d6f6a1872bb",
   "metadata": {},
   "source": [
    "### Task:"
   ]
  },
  {
   "cell_type": "markdown",
   "id": "fde8a51c-149d-403e-b839-113e2214d0b1",
   "metadata": {},
   "source": [
    "Q8. OOP + Composition: Kennel with Dogs. Using a Dog class (name, age, breed,\n",
    "bark()), implement a Kennel manager that holds multiple Dog instances, supports\n",
    "add_dog, remove_dog, oldest_dog(), and find_by_breed(breed). Compare composition vs. inheritance for this scenario. Anchor concepts: OOP design, managing\n",
    "collections of objects. Reference: :contentReference[oaicite:14]index=14\n"
   ]
  },
  {
   "cell_type": "markdown",
   "id": "f2088c58-068c-40bb-96d5-abac89cc6ebe",
   "metadata": {},
   "source": [
    "### Prompt"
   ]
  },
  {
   "cell_type": "markdown",
   "id": "1cf1ed5a-9b53-4054-9fd0-39db7f51621c",
   "metadata": {},
   "source": [
    "Using a Dog class (name, age, breed,\n",
    "bark()), implement a Kennel manager that holds multiple Dog instances, supports\n",
    "add_dog, remove_dog, oldest_dog(), and find_by_breed(breed). Compare composition vs. inheritance for this scenario. Anchor concepts: OOP design, managing\n",
    "collections of objects."
   ]
  },
  {
   "cell_type": "markdown",
   "id": "1a67313c-8327-484f-8efd-19b70e24032c",
   "metadata": {},
   "source": [
    "### ChatGPT Code"
   ]
  },
  {
   "cell_type": "code",
   "execution_count": 45,
   "id": "f1ff7bf8-2061-4307-a3d2-08b7f6196437",
   "metadata": {},
   "outputs": [
    {
     "name": "stdout",
     "output_type": "stream",
     "text": [
      "Max\n",
      "['Buddy', 'Bella']\n"
     ]
    }
   ],
   "source": [
    "class Dog:\n",
    "    def __init__(self, name, age, breed):\n",
    "        self.name = name\n",
    "        self.age = age\n",
    "        self.breed = breed\n",
    "\n",
    "    def bark(self):\n",
    "        return f\"{self.name} says woof!\"\n",
    "\n",
    "class Kennel:\n",
    "    def __init__(self):\n",
    "        self.dogs = []\n",
    "\n",
    "    def add_dog(self, dog):\n",
    "        self.dogs.append(dog)\n",
    "\n",
    "    def remove_dog(self, name):\n",
    "        self.dogs = [d for d in self.dogs if d.name != name]\n",
    "\n",
    "    def oldest_dog(self):\n",
    "        return max(self.dogs, key=lambda d: d.age) if self.dogs else None\n",
    "\n",
    "    def find_by_breed(self, breed):\n",
    "        return [d for d in self.dogs if d.breed == breed]\n",
    "\n",
    "# Quick test\n",
    "k = Kennel()\n",
    "k.add_dog(Dog(\"Buddy\", 5, \"Beagle\"))\n",
    "k.add_dog(Dog(\"Max\", 8, \"Labrador\"))\n",
    "k.add_dog(Dog(\"Bella\", 3, \"Beagle\"))\n",
    "print(k.oldest_dog().name)\n",
    "print([d.name for d in k.find_by_breed(\"Beagle\")])\n"
   ]
  },
  {
   "cell_type": "markdown",
   "id": "cc0005a3-7ef2-48e1-9652-19bda8a597aa",
   "metadata": {},
   "source": [
    "### Critique"
   ]
  },
  {
   "cell_type": "markdown",
   "id": "bed10840-efd9-4c7e-b1d9-62ed485abd9f",
   "metadata": {},
   "source": [
    "• Correctness: Correctly models Dog as a class with attributes and a bark() method. The Kennel class manages multiple Dog instances through composition. All functions (add_dog, remove_dog, oldest_dog, find_by_breed) behave as expected."
   ]
  },
  {
   "cell_type": "markdown",
   "id": "31c9378c-03dc-48f2-90fd-6748a2e78f29",
   "metadata": {},
   "source": [
    "• Complexity:\n",
    "\n",
    "add_dog: O(1) (append operation).\n",
    "\n",
    "remove_dog: O(n) due to list comprehension.\n",
    "\n",
    "oldest_dog: O(n) to scan list.\n",
    "\n",
    "find_by_breed: O(n) to filter by breed.\n",
    "Efficient for moderate list sizes."
   ]
  },
  {
   "cell_type": "markdown",
   "id": "c3dadeb7-eb3f-424d-bba8-11f07fac8125",
   "metadata": {},
   "source": [
    "• Robustness: Handles empty kennel in oldest_dog(). Lacks input validation (e.g., adding non-Dog objects), but sufficient for classroom use."
   ]
  },
  {
   "cell_type": "markdown",
   "id": "a1ff09a6-9d4d-40bb-93de-773f3d2f017d",
   "metadata": {},
   "source": [
    "• Readability: Code is clean and PEP 8 compliant. Would benefit from docstrings and inline comments for clarity."
   ]
  },
  {
   "cell_type": "markdown",
   "id": "d9d210a1-e01c-4fb4-ae74-5479c5b10104",
   "metadata": {},
   "source": [
    "• Faithfulness:\n",
    "Accurately applies composition to manage Dog objects, aligning with lecture 6 concepts on OOP design and managing collections of objects"
   ]
  },
  {
   "cell_type": "markdown",
   "id": "a8581cf5-50a8-42e9-87c8-89376bd98396",
   "metadata": {},
   "source": [
    "### Improved Code"
   ]
  },
  {
   "cell_type": "code",
   "execution_count": 46,
   "id": "888b521b-66df-4c79-8bea-aa1a88fc01ae",
   "metadata": {},
   "outputs": [
    {
     "name": "stdout",
     "output_type": "stream",
     "text": [
      "Max\n",
      "['Buddy', 'Bella']\n",
      "['Max', 'Bella']\n"
     ]
    }
   ],
   "source": [
    "class Dog:\n",
    "    \"\"\"Represents an individual dog with basic attributes and behavior.\"\"\"\n",
    "    def __init__(self, name: str, age: int, breed: str):\n",
    "        self.name = name\n",
    "        self.age = age\n",
    "        self.breed = breed\n",
    "\n",
    "    def bark(self) -> str:\n",
    "        \"\"\"Return a bark message.\"\"\"\n",
    "        return f\"{self.name} says woof!\"\n",
    "\n",
    "\n",
    "class Kennel:\n",
    "    \"\"\"Manages a collection of Dog instances using composition.\"\"\"\n",
    "    def __init__(self):\n",
    "        self.dogs: list[Dog] = []\n",
    "\n",
    "    def add_dog(self, dog: Dog) -> None:\n",
    "        \"\"\"Add a Dog instance to the kennel.\"\"\"\n",
    "        self.dogs.append(dog)\n",
    "\n",
    "    def remove_dog(self, name: str) -> None:\n",
    "        \"\"\"Remove a dog by name.\"\"\"\n",
    "        self.dogs = [d for d in self.dogs if d.name != name]\n",
    "\n",
    "    def oldest_dog(self) -> Dog | None:\n",
    "        \"\"\"Return the oldest dog in the kennel.\"\"\"\n",
    "        return max(self.dogs, key=lambda d: d.age) if self.dogs else None\n",
    "\n",
    "    def find_by_breed(self, breed: str) -> list[Dog]:\n",
    "        \"\"\"Return all dogs of a specific breed.\"\"\"\n",
    "        return [d for d in self.dogs if d.breed.lower() == breed.lower()]\n",
    "\n",
    "\n",
    "# Minimal test script\n",
    "if __name__ == \"__main__\":\n",
    "    kennel = Kennel()\n",
    "    kennel.add_dog(Dog(\"Buddy\", 5, \"Beagle\"))\n",
    "    kennel.add_dog(Dog(\"Max\", 8, \"Labrador\"))\n",
    "    kennel.add_dog(Dog(\"Bella\", 3, \"Beagle\"))\n",
    "\n",
    "    print(kennel.oldest_dog().name)                # Max\n",
    "    print([d.name for d in kennel.find_by_breed(\"Beagle\")])  # ['Buddy', 'Bella']\n",
    "\n",
    "    kennel.remove_dog(\"Buddy\")\n",
    "    print([d.name for d in kennel.dogs])           # ['Max', 'Bella']\n"
   ]
  },
  {
   "cell_type": "code",
   "execution_count": null,
   "id": "2f4e8020-cac3-4efc-a0df-39aac44d868b",
   "metadata": {},
   "outputs": [],
   "source": []
  },
  {
   "cell_type": "markdown",
   "id": "810d271a-a630-4afd-aec4-012030a1aff4",
   "metadata": {},
   "source": [
    "## Problem 9"
   ]
  },
  {
   "cell_type": "markdown",
   "id": "48310065-b02f-46d3-936e-e699deabdc82",
   "metadata": {},
   "source": [
    "### Task:"
   ]
  },
  {
   "cell_type": "markdown",
   "id": "98975734-a9f5-4cfe-a178-16fd78aa4082",
   "metadata": {},
   "source": [
    "Q9. Modules and Packages: Helpers. Create a package helpers/ with modules\n",
    "string_utils.py (function shout(s) uppercases) and math_utils.py (function area(l,w)).\n",
    "Then a main.py that imports with both import ... as ... and from ...\n",
    "import .... Explain namespace collisions and why aliases help. Anchor concepts: modules, packages, import variations, namespaces. Reference: :contentReference[oaicite:15]index=15\n"
   ]
  },
  {
   "cell_type": "markdown",
   "id": "5fa24ed5-1710-4ed4-b7e1-6bbcc6389282",
   "metadata": {},
   "source": [
    "### Prompt"
   ]
  },
  {
   "cell_type": "markdown",
   "id": "de11a20d-83c8-4003-bfbc-134e755143b6",
   "metadata": {},
   "source": [
    "Create a package helpers/ with modules\n",
    "string_utils.py (function shout(s) uppercases) and math_utils.py (function area(l,w)).\n",
    "Then a main.py that imports with both import ... as ... and from ...\n",
    "import .... Explain namespace collisions and why aliases help. Anchor concepts: modules, packages, import variations, namespaces."
   ]
  },
  {
   "cell_type": "markdown",
   "id": "88186c43-2f7e-4d04-a769-0d171a02c2f3",
   "metadata": {},
   "source": [
    "### ChatGPT Code"
   ]
  },
  {
   "cell_type": "code",
   "execution_count": 56,
   "id": "dcc59bb6-e74b-42ba-9ec2-38ff50196bd2",
   "metadata": {},
   "outputs": [
    {
     "name": "stdout",
     "output_type": "stream",
     "text": [
      "HELLO\n",
      "15\n"
     ]
    }
   ],
   "source": [
    "import helpers.string_utils as su\n",
    "from helpers.math_utils import area\n",
    "\n",
    "print(su.shout(\"hello\"))\n",
    "print(area(5, 3))"
   ]
  },
  {
   "cell_type": "markdown",
   "id": "8be47c5b-8d6a-4fd2-ba4d-5029e467beba",
   "metadata": {},
   "source": [
    "### Critique"
   ]
  },
  {
   "cell_type": "markdown",
   "id": "8f83ab4e-a178-410a-8242-560ab4d93c52",
   "metadata": {},
   "source": [
    "• Correctness: Functional correctly demonstrates both import variations and package structure."
   ]
  },
  {
   "cell_type": "markdown",
   "id": "d632ff92-d3f6-4c76-8a0a-1a95f214a306",
   "metadata": {},
   "source": [
    "• Complexity: Minimal and efficient. Each module has a single function for clarity."
   ]
  },
  {
   "cell_type": "markdown",
   "id": "62648324-e87d-49c7-9b47-f9e0e633b750",
   "metadata": {},
   "source": [
    "• Robustness: Works in any standard Python package directory. init.py enables helpers/ as a package."
   ]
  },
  {
   "cell_type": "markdown",
   "id": "3e45ce3f-d54b-4c50-b0bc-462ee5ee2b87",
   "metadata": {},
   "source": [
    "• Readability: Excellent; uses clear naming and consistent indentation."
   ]
  },
  {
   "cell_type": "markdown",
   "id": "297163cd-827e-485b-8617-6fe257e5ce51",
   "metadata": {},
   "source": [
    "• Faithfulness: It is taught on lesson 7 on how to exactly demonstrate modular code, package imports, and namespaces."
   ]
  },
  {
   "cell_type": "markdown",
   "id": "9d4c6fa3-f4a1-45d5-86c5-08897342af9a",
   "metadata": {},
   "source": [
    "### Improved Code"
   ]
  },
  {
   "cell_type": "code",
   "execution_count": 54,
   "id": "9c4b1980-ad80-48a1-b6fd-eb4e63713644",
   "metadata": {},
   "outputs": [
    {
     "name": "stdout",
     "output_type": "stream",
     "text": [
      "MODULAR PROGRAMMING!\n",
      "Area: 15\n"
     ]
    }
   ],
   "source": [
    "# Demonstrates import variations and namespace management\n",
    "import improved_helpers.string_utils as su            # Alias import\n",
    "from improved_helpers.math_utils import area          # Direct import\n",
    "\n",
    "def main():\n",
    "    print(su.shout(\"modular programming!\"))  # Using alias (su)\n",
    "    print(\"Area:\", area(5, 3))               # Using directly imported function\n",
    "\n",
    "if __name__ == \"__main__\":\n",
    "    main()"
   ]
  },
  {
   "cell_type": "code",
   "execution_count": null,
   "id": "b2b08619-5ce2-44da-9c0f-055c2218b723",
   "metadata": {},
   "outputs": [],
   "source": []
  },
  {
   "cell_type": "markdown",
   "id": "3a202b8e-3c36-4a5e-a02d-99918a06874f",
   "metadata": {},
   "source": [
    "## Problem 10"
   ]
  },
  {
   "cell_type": "markdown",
   "id": "9ec9fb68-11c1-4096-90c9-0a8988583874",
   "metadata": {},
   "source": [
    "### Task:"
   ]
  },
  {
   "cell_type": "markdown",
   "id": "03801d3c-3f44-4a77-845d-653be47473fe",
   "metadata": {},
   "source": [
    "Q10. Robust Temperature Converter (Functions + Exceptions). Write two functions: cel_to_far(c) and far_to_cel(f) with type hints and docstrings. Build a\n",
    "CLI that asks the user which direction to convert and validates input (gracefully\n",
    "handles bad entries). Include unit tests (doctest or simple asserts) covering typical\n",
    "and edge cases (e.g., -40). Anchor concepts: writing functions, control flow, input\n",
    "handling, testing."
   ]
  },
  {
   "cell_type": "markdown",
   "id": "5194dc48-aaf5-48d1-905e-ae9d156eeb15",
   "metadata": {},
   "source": [
    "### Prompt"
   ]
  },
  {
   "cell_type": "markdown",
   "id": "7c38d3fd-d83b-45a0-b3c6-e30b7b76d80d",
   "metadata": {},
   "source": [
    "Write two functions: cel_to_far(c) and far_to_cel(f) with type hints and docstrings. Build a\n",
    "CLI that asks the user which direction to convert and validates input (gracefully\n",
    "handles bad entries). Include unit tests (doctest or simple asserts) covering typical\n",
    "and edge cases (e.g., -40). Anchor concepts: writing functions, control flow, input\n",
    "handling, testing.\n"
   ]
  },
  {
   "cell_type": "markdown",
   "id": "01ee3c24-5bbb-488f-b023-9a6ad05dd622",
   "metadata": {},
   "source": [
    "### ChatGPT Code"
   ]
  },
  {
   "cell_type": "code",
   "execution_count": 55,
   "id": "bce50f98-19db-4465-a089-71b473f16359",
   "metadata": {},
   "outputs": [
    {
     "name": "stdin",
     "output_type": "stream",
     "text": [
      "Convert (C)elsius to Fahrenheit or (F)ahrenheit to Celsius?  C\n",
      "Enter temperature in Celsius:  32\n"
     ]
    },
    {
     "name": "stdout",
     "output_type": "stream",
     "text": [
      "Fahrenheit: 89.6\n"
     ]
    }
   ],
   "source": [
    "def cel_to_far(c):\n",
    "    return (c * 9/5) + 32\n",
    "\n",
    "def far_to_cel(f):\n",
    "    return (f - 32) * 5/9\n",
    "\n",
    "try:\n",
    "    choice = input(\"Convert (C)elsius to Fahrenheit or (F)ahrenheit to Celsius? \").lower()\n",
    "    if choice == 'c':\n",
    "        c = float(input(\"Enter temperature in Celsius: \"))\n",
    "        print(\"Fahrenheit:\", cel_to_far(c))\n",
    "    elif choice == 'f':\n",
    "        f = float(input(\"Enter temperature in Fahrenheit: \"))\n",
    "        print(\"Celsius:\", far_to_cel(f))\n",
    "    else:\n",
    "        print(\"Invalid choice.\")\n",
    "except ValueError:\n",
    "    print(\"Error: Please enter a numeric value.\")\n"
   ]
  },
  {
   "cell_type": "markdown",
   "id": "d38c10c2-8151-4dc5-8c2d-ae2348d94ca8",
   "metadata": {},
   "source": [
    "### Critique"
   ]
  },
  {
   "cell_type": "markdown",
   "id": "dd680ee5-a392-48fc-b9a6-d2e92b3a6a24",
   "metadata": {},
   "source": [
    "• Correctness:\n",
    "Conversion formulas are correct:\n",
    "\n",
    "°F = (°C × 9/5) + 32\n",
    "\n",
    "°C = (°F − 32) × 5/9\n",
    "Works properly for both directions."
   ]
  },
  {
   "cell_type": "markdown",
   "id": "eb828ac8-2111-46ec-bbdc-3f84debdef35",
   "metadata": {},
   "source": [
    "• Complexity: Constant O(1) time and space; only arithmetic and I/O operations."
   ]
  },
  {
   "cell_type": "markdown",
   "id": "9c4d1cca-02c8-4e05-bacd-165b1df46c78",
   "metadata": {},
   "source": [
    "• Robustness: Uses try/except for numeric input validation — good. However, doesn’t loop to retry after invalid"
   ]
  },
  {
   "cell_type": "markdown",
   "id": "72c36c73-6464-4149-b3aa-eb9d6d4071d9",
   "metadata": {},
   "source": [
    "• Readability: Short and easy to follow. Missing docstrings, comments, and type hints. Could improve clarity in variable names and structure by separating logic into functions."
   ]
  },
  {
   "cell_type": "markdown",
   "id": "a21843b1-2ca5-40d5-b622-8cbb436d371d",
   "metadata": {},
   "source": [
    "• Faithfulness: Taught on lecture 3 and 4 functions, input handling, and testing"
   ]
  },
  {
   "cell_type": "markdown",
   "id": "b2d5e5cf-24e5-4f23-b4d7-b0bce381957b",
   "metadata": {},
   "source": [
    "### Improved Code"
   ]
  },
  {
   "cell_type": "code",
   "execution_count": 53,
   "id": "f887a94f-7a96-46fe-9c41-b1d7927d2600",
   "metadata": {},
   "outputs": [
    {
     "name": "stdout",
     "output_type": "stream",
     "text": [
      "✅ All tests passed.\n",
      "\n"
     ]
    },
    {
     "name": "stdin",
     "output_type": "stream",
     "text": [
      "Convert (C)elsius→Fahrenheit or (F)ahrenheit→Celsius? (Q to quit):  c\n",
      "Enter temperature value:  32\n"
     ]
    },
    {
     "name": "stdout",
     "output_type": "stream",
     "text": [
      "32.0°C = 89.60°F\n",
      "\n"
     ]
    },
    {
     "name": "stdin",
     "output_type": "stream",
     "text": [
      "Convert (C)elsius→Fahrenheit or (F)ahrenheit→Celsius? (Q to quit):  Q\n"
     ]
    },
    {
     "name": "stdout",
     "output_type": "stream",
     "text": [
      "Exiting converter.\n"
     ]
    }
   ],
   "source": [
    "def cel_to_far(c: float) -> float:\n",
    "    \"\"\"\n",
    "    Convert Celsius to Fahrenheit.\n",
    "    \n",
    "    Formula: (C × 9/5) + 32\n",
    "    >>> cel_to_far(0)\n",
    "    32.0\n",
    "    >>> cel_to_far(-40)\n",
    "    -40.0\n",
    "    \"\"\"\n",
    "    return (c * 9/5) + 32\n",
    "\n",
    "\n",
    "def far_to_cel(f: float) -> float:\n",
    "    \"\"\"\n",
    "    Convert Fahrenheit to Celsius.\n",
    "    \n",
    "    Formula: (F − 32) × 5/9\n",
    "    >>> far_to_cel(32)\n",
    "    0.0\n",
    "    >>> far_to_cel(-40)\n",
    "    -40.0\n",
    "    \"\"\"\n",
    "    return (f - 32) * 5/9\n",
    "\n",
    "\n",
    "def main() -> None:\n",
    "    \"\"\"CLI for temperature conversion with input validation.\"\"\"\n",
    "    while True:\n",
    "        choice = input(\"Convert (C)elsius→Fahrenheit or (F)ahrenheit→Celsius? (Q to quit): \").lower()\n",
    "        if choice == \"q\":\n",
    "            print(\"Exiting converter.\")\n",
    "            break\n",
    "        elif choice in (\"c\", \"f\"):\n",
    "            try:\n",
    "                value = float(input(\"Enter temperature value: \"))\n",
    "                if choice == \"c\":\n",
    "                    print(f\"{value}°C = {cel_to_far(value):.2f}°F\\n\")\n",
    "                else:\n",
    "                    print(f\"{value}°F = {far_to_cel(value):.2f}°C\\n\")\n",
    "            except ValueError:\n",
    "                print(\"❌ Invalid input. Please enter a numeric value.\\n\")\n",
    "        else:\n",
    "            print(\"❌ Invalid choice. Enter 'C', 'F', or 'Q'.\\n\")\n",
    "\n",
    "\n",
    "# Simple unit tests (assert-based)\n",
    "if __name__ == \"__main__\":\n",
    "    assert cel_to_far(0) == 32.0\n",
    "    assert far_to_cel(32) == 0.0\n",
    "    assert cel_to_far(-40) == -40.0\n",
    "    assert round(far_to_cel(212), 1) == 100.0\n",
    "    print(\"✅ All tests passed.\\n\")\n",
    "    main()\n"
   ]
  },
  {
   "cell_type": "code",
   "execution_count": null,
   "id": "2e47a166-dd93-417f-97fa-ad8cefa5a82e",
   "metadata": {},
   "outputs": [],
   "source": []
  }
 ],
 "metadata": {
  "kernelspec": {
   "display_name": "Python 3 (ipykernel)",
   "language": "python",
   "name": "python3"
  },
  "language_info": {
   "codemirror_mode": {
    "name": "ipython",
    "version": 3
   },
   "file_extension": ".py",
   "mimetype": "text/x-python",
   "name": "python",
   "nbconvert_exporter": "python",
   "pygments_lexer": "ipython3",
   "version": "3.13.5"
  }
 },
 "nbformat": 4,
 "nbformat_minor": 5
}
