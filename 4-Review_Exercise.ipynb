{
 "cells": [
  {
   "cell_type": "markdown",
   "id": "f28fbb43-9153-434d-a9c5-4f9041b59a74",
   "metadata": {},
   "source": [
    "# 4-Review_Exercises\n",
    "\n",
    "__________"
   ]
  },
  {
   "cell_type": "code",
   "execution_count": 3,
   "id": "922deee4-d6b9-404e-abc3-167c47f662c1",
   "metadata": {},
   "outputs": [
    {
     "name": "stdin",
     "output_type": "stream",
     "text": [
      "Enter a random input(Stops using Q or q):  asd\n",
      "Enter a random input(Stops using Q or q):  qeq\n",
      "Enter a random input(Stops using Q or q):  asd\n",
      "Enter a random input(Stops using Q or q):  q\n"
     ]
    }
   ],
   "source": [
    "while True:\n",
    "    userInput = input(\"Enter a random input(Stops using Q or q): \")\n",
    "\n",
    "    if(userInput == \"Q\" or userInput == \"q\") :\n",
    "        break"
   ]
  },
  {
   "cell_type": "code",
   "execution_count": 7,
   "id": "48a913a1-e392-4824-a84b-f1b4f1f0bdbd",
   "metadata": {},
   "outputs": [
    {
     "name": "stdout",
     "output_type": "stream",
     "text": [
      "1\n",
      "2\n",
      "4\n",
      "5\n",
      "7\n",
      "8\n",
      "10\n",
      "11\n",
      "13\n",
      "14\n",
      "16\n",
      "17\n",
      "19\n",
      "20\n",
      "22\n",
      "23\n",
      "25\n",
      "26\n",
      "28\n",
      "29\n",
      "31\n",
      "32\n",
      "34\n",
      "35\n",
      "37\n",
      "38\n",
      "40\n",
      "41\n",
      "43\n",
      "44\n",
      "46\n",
      "47\n",
      "49\n",
      "50\n"
     ]
    }
   ],
   "source": [
    "for n in range (1, 51):\n",
    "    if(n % 3 == 0):\n",
    "        continue\n",
    "    print(n)"
   ]
  },
  {
   "cell_type": "code",
   "execution_count": null,
   "id": "0a8d2aee-7f8e-4aac-8d5a-7e39d95a5268",
   "metadata": {},
   "outputs": [],
   "source": []
  }
 ],
 "metadata": {
  "kernelspec": {
   "display_name": "anaconda-2024.02-py310",
   "language": "python",
   "name": "conda-env-anaconda-2024.02-py310-py"
  },
  "language_info": {
   "codemirror_mode": {
    "name": "ipython",
    "version": 3
   },
   "file_extension": ".py",
   "mimetype": "text/x-python",
   "name": "python",
   "nbconvert_exporter": "python",
   "pygments_lexer": "ipython3",
   "version": "3.10.14"
  }
 },
 "nbformat": 4,
 "nbformat_minor": 5
}
