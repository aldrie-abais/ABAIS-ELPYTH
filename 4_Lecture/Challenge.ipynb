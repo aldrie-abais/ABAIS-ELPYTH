{
 "cells": [
  {
   "cell_type": "markdown",
   "id": "9b4280c2-16e5-45de-ab08-fa3e5628603c",
   "metadata": {},
   "source": [
    "# Challenge:: Simulate an Election\n",
    "\n",
    "____________"
   ]
  },
  {
   "cell_type": "code",
   "execution_count": 25,
   "id": "731e25ef-8361-4a1d-acf9-c0e6551db5d9",
   "metadata": {},
   "outputs": [
    {
     "name": "stdout",
     "output_type": "stream",
     "text": [
      "The Candidate's chances of winning is 0.64 or 63.5%\n"
     ]
    }
   ],
   "source": [
    "import random\n",
    "\n",
    "number_of_simulation =10000\n",
    "def ElectionSimulation(number_of_simulation):\n",
    "    winner = 0\n",
    "    for n in range(number_of_simulation):\n",
    "        reg1_win = random.random() < 0.87\n",
    "        reg2_win = random.random() < 0.65\n",
    "        reg3_win = random.random() < 0.17\n",
    "        wins = sum([reg1_win, reg2_win, reg3_win])\n",
    "        if(wins >= 2):\n",
    "            winner = winner + 1\n",
    "    return winner\n",
    "Result = ElectionSimulation(number_of_simulation) / number_of_simulation\n",
    "print(f\"The Candidate's chances of winning is {Result:.2f} or {Result:.1%}\")\n"
   ]
  },
  {
   "cell_type": "code",
   "execution_count": null,
   "id": "ab5ec03a-edaf-4ada-9e2f-f216cf4bc3f8",
   "metadata": {},
   "outputs": [],
   "source": []
  },
  {
   "cell_type": "code",
   "execution_count": null,
   "id": "03cfa52f-1b3b-4b49-8ad1-6a548e980cf1",
   "metadata": {},
   "outputs": [],
   "source": []
  }
 ],
 "metadata": {
  "kernelspec": {
   "display_name": "Python 3 (ipykernel)",
   "language": "python",
   "name": "python3"
  },
  "language_info": {
   "codemirror_mode": {
    "name": "ipython",
    "version": 3
   },
   "file_extension": ".py",
   "mimetype": "text/x-python",
   "name": "python",
   "nbconvert_exporter": "python",
   "pygments_lexer": "ipython3",
   "version": "3.10.18"
  }
 },
 "nbformat": 4,
 "nbformat_minor": 5
}
