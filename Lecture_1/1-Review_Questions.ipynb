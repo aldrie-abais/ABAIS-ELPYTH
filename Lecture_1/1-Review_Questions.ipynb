{
 "cells": [
  {
   "cell_type": "markdown",
   "id": "2c86b28c-08dc-49a3-8af9-d2db16f52786",
   "metadata": {},
   "source": [
    "# Review Questions 1\n",
    "\n",
    "_______"
   ]
  },
  {
   "cell_type": "code",
   "execution_count": 4,
   "id": "97985303-15f3-415f-b382-2a94860d6b71",
   "metadata": {},
   "outputs": [
    {
     "name": "stdout",
     "output_type": "stream",
     "text": [
      "24\n"
     ]
    }
   ],
   "source": [
    "firstString = 'This is the first string'\n",
    "print(len(firstString))"
   ]
  },
  {
   "cell_type": "code",
   "execution_count": 5,
   "id": "47b39546-6e34-45cd-ac4c-02d6c51892c2",
   "metadata": {},
   "outputs": [
    {
     "name": "stdout",
     "output_type": "stream",
     "text": [
      "firstsecond\n"
     ]
    }
   ],
   "source": [
    "firstString = 'first'\n",
    "secondString = 'second'\n",
    "concatenatedString = firstString + secondString\n",
    "print(concatenatedString)"
   ]
  },
  {
   "cell_type": "code",
   "execution_count": 7,
   "id": "94cc560d-fa29-406f-b3b4-f10c2af9e661",
   "metadata": {},
   "outputs": [
    {
     "name": "stdout",
     "output_type": "stream",
     "text": [
      "first second\n"
     ]
    }
   ],
   "source": [
    "firstString = 'first'\n",
    "secondString = 'second'\n",
    "concatenatedString = firstString + ' ' + secondString\n",
    "print(concatenatedString)"
   ]
  },
  {
   "cell_type": "code",
   "execution_count": 10,
   "id": "24269c9d-2089-4ef9-b137-02c0bef2f73c",
   "metadata": {},
   "outputs": [
    {
     "name": "stdout",
     "output_type": "stream",
     "text": [
      "fox\n"
     ]
    }
   ],
   "source": [
    "brownFoxString = 'The quick brown fox jumped over the lazy dog. #1234567890!'\n",
    "print(brownFoxString[16 : 19])"
   ]
  },
  {
   "cell_type": "code",
   "execution_count": null,
   "id": "522d3fea-e8f9-447c-a975-c0247230d89e",
   "metadata": {},
   "outputs": [],
   "source": []
  }
 ],
 "metadata": {
  "kernelspec": {
   "display_name": "Python 3 (ipykernel)",
   "language": "python",
   "name": "python3"
  },
  "language_info": {
   "codemirror_mode": {
    "name": "ipython",
    "version": 3
   },
   "file_extension": ".py",
   "mimetype": "text/x-python",
   "name": "python",
   "nbconvert_exporter": "python",
   "pygments_lexer": "ipython3",
   "version": "3.13.5"
  }
 },
 "nbformat": 4,
 "nbformat_minor": 5
}
