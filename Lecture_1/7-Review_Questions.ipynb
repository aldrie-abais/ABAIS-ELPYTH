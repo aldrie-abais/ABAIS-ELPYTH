{
 "cells": [
  {
   "cell_type": "markdown",
   "id": "b3dfc13d-ca7e-44a6-abbf-66f03f15ac76",
   "metadata": {},
   "source": [
    "# Review Question 7\n",
    "\n",
    "___________\n"
   ]
  },
  {
   "cell_type": "code",
   "execution_count": null,
   "id": "d592556e-5a30-4f34-8076-54c2c738219c",
   "metadata": {},
   "outputs": [],
   "source": []
  }
 ],
 "metadata": {
  "kernelspec": {
   "display_name": "Python 3 (ipykernel)",
   "language": "python",
   "name": "python3"
  },
  "language_info": {
   "codemirror_mode": {
    "name": "ipython",
    "version": 3
   },
   "file_extension": ".py",
   "mimetype": "text/x-python",
   "name": "python",
   "nbconvert_exporter": "python",
   "pygments_lexer": "ipython3",
   "version": "3.13.5"
  }
 },
 "nbformat": 4,
 "nbformat_minor": 5
}
