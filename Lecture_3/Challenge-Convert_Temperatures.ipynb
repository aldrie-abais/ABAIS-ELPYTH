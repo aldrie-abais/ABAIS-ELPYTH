{
 "cells": [
  {
   "cell_type": "markdown",
   "id": "5398de4a-df69-45a3-89ca-8c419a788c14",
   "metadata": {},
   "source": [
    "# Challenge-Convert Temperatures\n",
    "\n",
    "____\n"
   ]
  },
  {
   "cell_type": "code",
   "execution_count": 27,
   "id": "c07d3abc-4231-471f-807d-d8188b157fa3",
   "metadata": {},
   "outputs": [
    {
     "name": "stdin",
     "output_type": "stream",
     "text": [
      "Enter a temperature in degrees C:  37\n"
     ]
    },
    {
     "data": {
      "text/plain": [
       "'37 degrees C = 98.60 degrees F'"
      ]
     },
     "execution_count": 27,
     "metadata": {},
     "output_type": "execute_result"
    }
   ],
   "source": [
    "def convert_cel_to_far(celcius):\n",
    "    farenheit = float(celcius * 9 / 5 + 32)\n",
    "    return farenheit\n",
    "    \n",
    "\n",
    "celcius = int(input(\"Enter a temperature in degrees C: \"))\n",
    "\n",
    "farenheit = convert_cel_to_far(celcius)\n",
    "f\"{celcius} degrees C = {farenheit:.2f} degrees F\""
   ]
  },
  {
   "cell_type": "code",
   "execution_count": 25,
   "id": "a6c0c1d5-7a98-46df-8b54-f5ec91046d50",
   "metadata": {},
   "outputs": [
    {
     "name": "stdin",
     "output_type": "stream",
     "text": [
      "Enter a temperature in degrees F:  72\n"
     ]
    },
    {
     "data": {
      "text/plain": [
       "'72 degrees F = 22.22 degrees C'"
      ]
     },
     "execution_count": 25,
     "metadata": {},
     "output_type": "execute_result"
    }
   ],
   "source": [
    "def  convert_far_to_cel(farenheit):\n",
    "    celcius = float(farenheit - 32) / (9/5)\n",
    "    return celcius\n",
    "\n",
    "farenheit = int(input(\"Enter a temperature in degrees F: \"))\n",
    "\n",
    "celcius = convert_far_to_cel(farenheit)\n",
    "f\"{farenheit} degrees F = {celcius:.2f} degrees C\""
   ]
  },
  {
   "cell_type": "code",
   "execution_count": null,
   "id": "a3d7a708-ef92-4b64-8133-2f766ec4de17",
   "metadata": {},
   "outputs": [],
   "source": []
  }
 ],
 "metadata": {
  "kernelspec": {
   "display_name": "Python 3 (ipykernel)",
   "language": "python",
   "name": "python3"
  },
  "language_info": {
   "codemirror_mode": {
    "name": "ipython",
    "version": 3
   },
   "file_extension": ".py",
   "mimetype": "text/x-python",
   "name": "python",
   "nbconvert_exporter": "python",
   "pygments_lexer": "ipython3",
   "version": "3.13.5"
  }
 },
 "nbformat": 4,
 "nbformat_minor": 5
}
