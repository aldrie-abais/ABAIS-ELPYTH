{
 "cells": [
  {
   "cell_type": "markdown",
   "id": "409ea01d-0009-457f-99b0-b1c70c73841f",
   "metadata": {},
   "source": [
    "# Review Questions 1\n",
    "\n",
    "____\n"
   ]
  },
  {
   "cell_type": "code",
   "execution_count": 3,
   "id": "9a99e31c-aa0a-4d8d-82a3-c0f9b2a7fd78",
   "metadata": {},
   "outputs": [
    {
     "name": "stdout",
     "output_type": "stream",
     "text": [
      "27\n"
     ]
    }
   ],
   "source": [
    "number = 3\n",
    "\n",
    "def cube(number):\n",
    "    return number ** 3\n",
    "\n",
    "print(cube(number))"
   ]
  },
  {
   "cell_type": "code",
   "execution_count": 10,
   "id": "6636d0f4-6bc6-4ac9-86f7-ab3fd7ca27b5",
   "metadata": {},
   "outputs": [
    {
     "name": "stdout",
     "output_type": "stream",
     "text": [
      "Hello Aldrie !\n"
     ]
    }
   ],
   "source": [
    "name = \"Aldrie\"\n",
    "\n",
    "def greet(name):\n",
    "    print(f\"Hello\", name,\"!\")\n",
    "\n",
    "greet(name)"
   ]
  },
  {
   "cell_type": "code",
   "execution_count": null,
   "id": "c83dda42-995e-4380-8066-10fcf311ebcf",
   "metadata": {},
   "outputs": [],
   "source": []
  }
 ],
 "metadata": {
  "kernelspec": {
   "display_name": "Python 3 (ipykernel)",
   "language": "python",
   "name": "python3"
  },
  "language_info": {
   "codemirror_mode": {
    "name": "ipython",
    "version": 3
   },
   "file_extension": ".py",
   "mimetype": "text/x-python",
   "name": "python",
   "nbconvert_exporter": "python",
   "pygments_lexer": "ipython3",
   "version": "3.13.5"
  }
 },
 "nbformat": 4,
 "nbformat_minor": 5
}
