{
 "cells": [
  {
   "cell_type": "markdown",
   "id": "90ecc0e6-685c-470f-a4ea-c11bd1f0f2c3",
   "metadata": {},
   "source": [
    "# Review Questions 7\n",
    "\n",
    "________"
   ]
  },
  {
   "cell_type": "code",
   "execution_count": 20,
   "id": "e63c3b03-6771-49ef-98b9-a3041dbbae6b",
   "metadata": {},
   "outputs": [
    {
     "name": "stdin",
     "output_type": "stream",
     "text": [
      "Enter some text:  I like to eat eggs and spam.\n"
     ]
    },
    {
     "name": "stdout",
     "output_type": "stream",
     "text": [
      "I 1ik3 70 347 3gg5 4nd 5p4m.\n"
     ]
    }
   ],
   "source": [
    "prompt = \"Enter some text: \"\n",
    "firstInput = input(prompt)\n",
    "\n",
    "Output = firstInput.replace('a','4').replace('b','8').replace('e','3').replace('l','1').replace('o','0').replace('s','5').replace('t','7')\n",
    "\n",
    "\n",
    "print(Output)"
   ]
  },
  {
   "cell_type": "code",
   "execution_count": null,
   "id": "2cb8e8fc-c67b-4590-a064-a1ff13971918",
   "metadata": {},
   "outputs": [],
   "source": []
  },
  {
   "cell_type": "code",
   "execution_count": null,
   "id": "2c5d6c63-595b-4752-8dbe-56ae13770f2e",
   "metadata": {},
   "outputs": [],
   "source": []
  }
 ],
 "metadata": {
  "kernelspec": {
   "display_name": "Python 3 (ipykernel)",
   "language": "python",
   "name": "python3"
  },
  "language_info": {
   "codemirror_mode": {
    "name": "ipython",
    "version": 3
   },
   "file_extension": ".py",
   "mimetype": "text/x-python",
   "name": "python",
   "nbconvert_exporter": "python",
   "pygments_lexer": "ipython3",
   "version": "3.13.5"
  }
 },
 "nbformat": 4,
 "nbformat_minor": 5
}
