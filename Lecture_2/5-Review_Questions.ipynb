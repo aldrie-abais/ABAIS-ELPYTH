{
 "cells": [
  {
   "cell_type": "markdown",
   "id": "d097bdd3-974d-4b71-9806-dbbcf1efa3c8",
   "metadata": {},
   "source": [
    "# Review Questions 5\n",
    "\n",
    "_____\n",
    "\n"
   ]
  },
  {
   "cell_type": "code",
   "execution_count": 13,
   "id": "7ea9c5d9-58d2-47ac-b0ef-2fcf1d37792c",
   "metadata": {},
   "outputs": [
    {
     "data": {
      "text/plain": [
       "'1.15'"
      ]
     },
     "execution_count": 13,
     "metadata": {},
     "output_type": "execute_result"
    }
   ],
   "source": [
    "result = 3 ** .125\n",
    "\n",
    "f\"{result:.2f}\""
   ]
  },
  {
   "cell_type": "code",
   "execution_count": 14,
   "id": "ad22b700-ded3-4674-86f4-cb4550c8783b",
   "metadata": {},
   "outputs": [
    {
     "data": {
      "text/plain": [
       "'$150,000.00'"
      ]
     },
     "execution_count": 14,
     "metadata": {},
     "output_type": "execute_result"
    }
   ],
   "source": [
    "number = 150000\n",
    "f\"${number:,.2f}\""
   ]
  },
  {
   "cell_type": "code",
   "execution_count": 18,
   "id": "8efe2ef5-2428-40a0-b867-1187d2a4b442",
   "metadata": {},
   "outputs": [
    {
     "data": {
      "text/plain": [
       "'20%'"
      ]
     },
     "execution_count": 18,
     "metadata": {},
     "output_type": "execute_result"
    }
   ],
   "source": [
    "result = 2/10\n",
    "int(result)\n",
    "f\"{result:.0%}\""
   ]
  },
  {
   "cell_type": "code",
   "execution_count": null,
   "id": "c0d2c794-66e7-4ebd-a945-9b7a86963d5a",
   "metadata": {},
   "outputs": [],
   "source": []
  }
 ],
 "metadata": {
  "kernelspec": {
   "display_name": "Python 3 (ipykernel)",
   "language": "python",
   "name": "python3"
  },
  "language_info": {
   "codemirror_mode": {
    "name": "ipython",
    "version": 3
   },
   "file_extension": ".py",
   "mimetype": "text/x-python",
   "name": "python",
   "nbconvert_exporter": "python",
   "pygments_lexer": "ipython3",
   "version": "3.13.5"
  }
 },
 "nbformat": 4,
 "nbformat_minor": 5
}
