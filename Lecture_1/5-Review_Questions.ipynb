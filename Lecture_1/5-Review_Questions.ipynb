{
 "cells": [
  {
   "cell_type": "markdown",
   "id": "134f5517-7396-4cc3-ba79-7605439bdbec",
   "metadata": {},
   "source": [
    "# Review Questions 5\n",
    "\n",
    "__________"
   ]
  },
  {
   "cell_type": "code",
   "execution_count": 1,
   "id": "3c5e7fd5-8177-4834-a508-5d751695c3df",
   "metadata": {},
   "outputs": [
    {
     "name": "stdout",
     "output_type": "stream",
     "text": [
      "200\n"
     ]
    }
   ],
   "source": [
    "integerOnAString = \"50\"\n",
    "actualInteger = int(integerOnAString)\n",
    "print(actualInteger * 4)"
   ]
  },
  {
   "cell_type": "code",
   "execution_count": 2,
   "id": "2c47569d-f437-428b-8e05-212df0b1c61a",
   "metadata": {},
   "outputs": [
    {
     "name": "stdout",
     "output_type": "stream",
     "text": [
      "202.0\n"
     ]
    }
   ],
   "source": [
    "decimalOnAString = \"50.50\"\n",
    "actualDecimal = float(decimalOnAString)\n",
    "print(actualDecimal * 4)"
   ]
  },
  {
   "cell_type": "code",
   "execution_count": 7,
   "id": "a6daf27d-3e2c-478d-8709-72bfca81ac3e",
   "metadata": {},
   "outputs": [
    {
     "name": "stdout",
     "output_type": "stream",
     "text": [
      "ABC 3\n"
     ]
    }
   ],
   "source": [
    "String = \"ABC\"\n",
    "Integer = \"3\"\n",
    "print(str(String), str(Integer))"
   ]
  },
  {
   "cell_type": "code",
   "execution_count": 13,
   "id": "12f0941b-5d20-4d38-885c-f0c639b31b07",
   "metadata": {},
   "outputs": [
    {
     "name": "stdout",
     "output_type": "stream",
     "text": [
      "Enter TWO numbers to be multiplied:\n"
     ]
    },
    {
     "name": "stdin",
     "output_type": "stream",
     "text": [
      "number 1:  3\n",
      "number 2:  5\n"
     ]
    },
    {
     "name": "stdout",
     "output_type": "stream",
     "text": [
      "15\n"
     ]
    }
   ],
   "source": [
    "print(\"Enter TWO numbers to be multiplied:\")\n",
    "\n",
    "prompt1 = \"number 1: \"\n",
    "prompt2 = \"number 2: \"\n",
    "\n",
    "first_Input = input(prompt1)\n",
    "second_Input =  input(prompt2)\n",
    "\n",
    "actualInteger1 = int(first_Input)\n",
    "actualInteger2 = int(second_Input)\n",
    "\n",
    "multiplied_Input = actualInteger1 * actualInteger2\n",
    "\n",
    "print(multiplied_Input)"
   ]
  },
  {
   "cell_type": "code",
   "execution_count": null,
   "id": "99a8fad6-4a01-4ee8-9822-16b8ac487431",
   "metadata": {},
   "outputs": [],
   "source": []
  }
 ],
 "metadata": {
  "kernelspec": {
   "display_name": "Python 3 (ipykernel)",
   "language": "python",
   "name": "python3"
  },
  "language_info": {
   "codemirror_mode": {
    "name": "ipython",
    "version": 3
   },
   "file_extension": ".py",
   "mimetype": "text/x-python",
   "name": "python",
   "nbconvert_exporter": "python",
   "pygments_lexer": "ipython3",
   "version": "3.13.5"
  }
 },
 "nbformat": 4,
 "nbformat_minor": 5
}
