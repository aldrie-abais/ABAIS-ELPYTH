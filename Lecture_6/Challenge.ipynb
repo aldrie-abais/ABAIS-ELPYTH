{
 "cells": [
  {
   "cell_type": "markdown",
   "id": "6d356136-7ef0-47c4-a267-b7d63b5aeebd",
   "metadata": {},
   "source": [
    "# Challenge\n",
    "\n",
    "________"
   ]
  },
  {
   "cell_type": "code",
   "execution_count": 1,
   "id": "96a12e29-fc7b-4f1f-96f9-1e77971ab255",
   "metadata": {},
   "outputs": [
    {
     "name": "stdout",
     "output_type": "stream",
     "text": [
      "Luna is 3 years old with white fur.\n",
      "Luna softly says meow\n",
      "Luna is eating.\n",
      "Milo is 2 years old with cream fur.\n",
      "Milo gracefully says mew\n",
      "Milo jumps onto the table!\n",
      "Simba is 4 years old with golden brown fur.\n",
      "Simba loudly says mrrrow\n",
      "Simba runs quickly across the yard!\n"
     ]
    }
   ],
   "source": [
    "class Cat:\n",
    "    species = \"Felis catus\"\n",
    "\n",
    "    def __init__(self, name, age, fur_color):\n",
    "        self.name = name\n",
    "        self.age = age\n",
    "        self.fur_color = fur_color\n",
    "\n",
    "    def __str__(self):\n",
    "        return f\"{self.name} is {self.age} years old with {self.fur_color} fur.\"\n",
    "\n",
    "    def speak(self, sound):\n",
    "        return f\"{self.name} says {sound}\"\n",
    "\n",
    "    def eat(self):\n",
    "        return f\"{self.name} is eating.\"\n",
    "\n",
    "\n",
    "# Child 1\n",
    "class PersianCat(Cat):\n",
    "    def speak(self, sound=\"meow\"):\n",
    "        return f\"{self.name} softly says {sound}\"\n",
    "\n",
    "\n",
    "# Child 2\n",
    "class SiameseCat(Cat):\n",
    "    def speak(self, sound=\"mew\"):\n",
    "        return f\"{self.name} gracefully says {sound}\"\n",
    "\n",
    "    def jump(self):\n",
    "        return f\"{self.name} jumps onto the table!\"\n",
    "\n",
    "\n",
    "# Child 3\n",
    "class BengalCat(Cat):\n",
    "    def speak(self, sound=\"mrrrow\"):\n",
    "        return f\"{self.name} loudly says {sound}\"\n",
    "\n",
    "    def run(self):\n",
    "        return f\"{self.name} runs quickly across the yard!\"\n",
    "\n",
    "\n",
    "persian = PersianCat(\"Luna\", 3, \"white\")\n",
    "siamese = SiameseCat(\"Milo\", 2, \"cream\")\n",
    "bengal = BengalCat(\"Simba\", 4, \"golden brown\")\n",
    "\n",
    "print(persian)\n",
    "print(persian.speak())\n",
    "print(persian.eat())\n",
    "\n",
    "print(siamese)\n",
    "print(siamese.speak())\n",
    "print(siamese.jump())\n",
    "\n",
    "print(bengal)\n",
    "print(bengal.speak())\n",
    "print(bengal.run())"
   ]
  },
  {
   "cell_type": "code",
   "execution_count": null,
   "id": "7f9300a4-a55b-4125-9371-537d8936619a",
   "metadata": {},
   "outputs": [],
   "source": []
  }
 ],
 "metadata": {
  "kernelspec": {
   "display_name": "Python 3 (ipykernel)",
   "language": "python",
   "name": "python3"
  },
  "language_info": {
   "codemirror_mode": {
    "name": "ipython",
    "version": 3
   },
   "file_extension": ".py",
   "mimetype": "text/x-python",
   "name": "python",
   "nbconvert_exporter": "python",
   "pygments_lexer": "ipython3",
   "version": "3.13.5"
  }
 },
 "nbformat": 4,
 "nbformat_minor": 5
}
