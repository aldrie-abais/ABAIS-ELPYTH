{
 "cells": [
  {
   "cell_type": "markdown",
   "id": "7a1df4dd-7c6d-4ca1-939f-5031f1bed860",
   "metadata": {},
   "source": [
    "# For Fun\n",
    "\n",
    "_________"
   ]
  },
  {
   "cell_type": "code",
   "execution_count": 7,
   "id": "7bb302b6-84e2-48de-870f-fbd224729e2d",
   "metadata": {},
   "outputs": [],
   "source": [
    "def volume_sa_barrel(height, radius):\n",
    "    nahabilin_nga_height = (0.9 * height)\n",
    "    vol = (nahabilin_nga_height * 2 * 3.14) * (radius ** 2)\n",
    "    return vol"
   ]
  },
  {
   "cell_type": "code",
   "execution_count": 8,
   "id": "ebf17395-125e-494d-9310-091aba64768d",
   "metadata": {},
   "outputs": [
    {
     "data": {
      "text/plain": [
       "5.652000000000001"
      ]
     },
     "execution_count": 8,
     "metadata": {},
     "output_type": "execute_result"
    }
   ],
   "source": [
    "volume_sa_barrel(4, 1.5)"
   ]
  },
  {
   "cell_type": "code",
   "execution_count": 13,
   "id": "be69c97b-b27a-43d8-b4a3-0f75fc8b486c",
   "metadata": {},
   "outputs": [],
   "source": [
    "def kick_back(height, radius):\n",
    "    ginansya = (0.1 * height)\n",
    "    vol = (ginansya * 2 * 3.14) * (radius ** 2)\n",
    "    return vol"
   ]
  },
  {
   "cell_type": "code",
   "execution_count": 16,
   "id": "67d5f1b6-f950-42a1-ad97-16eac7561cdc",
   "metadata": {},
   "outputs": [
    {
     "data": {
      "text/plain": [
       "327.81600000000003"
      ]
     },
     "execution_count": 16,
     "metadata": {},
     "output_type": "execute_result"
    }
   ],
   "source": [
    "kwarta_nani = kick_back(4, 1.5)\n",
    "kwarta_nani*58"
   ]
  },
  {
   "cell_type": "code",
   "execution_count": null,
   "id": "1df11345-bffa-4d71-889d-123e49cb7392",
   "metadata": {},
   "outputs": [],
   "source": []
  }
 ],
 "metadata": {
  "kernelspec": {
   "display_name": "Python 3 (ipykernel)",
   "language": "python",
   "name": "python3"
  },
  "language_info": {
   "codemirror_mode": {
    "name": "ipython",
    "version": 3
   },
   "file_extension": ".py",
   "mimetype": "text/x-python",
   "name": "python",
   "nbconvert_exporter": "python",
   "pygments_lexer": "ipython3",
   "version": "3.13.5"
  }
 },
 "nbformat": 4,
 "nbformat_minor": 5
}
