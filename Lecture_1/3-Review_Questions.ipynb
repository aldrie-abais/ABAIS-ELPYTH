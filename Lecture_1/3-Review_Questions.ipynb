{
 "cells": [
  {
   "cell_type": "markdown",
   "id": "c3097324-02cd-436f-b1bc-87ed9bdc2b48",
   "metadata": {},
   "source": [
    "# Review Questions 3\n",
    "\n",
    "__________"
   ]
  },
  {
   "cell_type": "code",
   "execution_count": 3,
   "id": "9ab4cdc9-7638-42ed-a322-4ed17c8a6ff2",
   "metadata": {},
   "outputs": [
    {
     "name": "stdin",
     "output_type": "stream",
     "text": [
      "Enter any random input:  randomShi\n"
     ]
    },
    {
     "name": "stdout",
     "output_type": "stream",
     "text": [
      "your input is randomShi\n"
     ]
    }
   ],
   "source": [
    "randomPrompt = \"Enter any random input: \"\n",
    "user_input= input(randomPrompt)\n",
    "print(\"your input is\", user_input)"
   ]
  },
  {
   "cell_type": "code",
   "execution_count": 4,
   "id": "4fbf014e-50dd-4db2-bdf0-9fefecfb0cba",
   "metadata": {},
   "outputs": [
    {
     "name": "stdin",
     "output_type": "stream",
     "text": [
      "Enter any random input:  ADASsafdSFDsdf\n"
     ]
    },
    {
     "name": "stdout",
     "output_type": "stream",
     "text": [
      "your input is adassafdsfdsdf\n"
     ]
    }
   ],
   "source": [
    "randomPrompt = \"Enter any random input: \"\n",
    "user_input= input(randomPrompt)\n",
    "print(\"your input is\", user_input.lower())"
   ]
  },
  {
   "cell_type": "code",
   "execution_count": 8,
   "id": "aa510259-0200-4d3e-b416-e1ffb2f25144",
   "metadata": {},
   "outputs": [
    {
     "name": "stdin",
     "output_type": "stream",
     "text": [
      "Enter any random input:  qwd321ujg23eqw\n"
     ]
    },
    {
     "name": "stdout",
     "output_type": "stream",
     "text": [
      "the char length of your input is 14\n"
     ]
    }
   ],
   "source": [
    "randomPrompt = \"Enter any random input: \"\n",
    "user_input= input(randomPrompt)\n",
    "user_inputLength = len(user_input)\n",
    "print(\"the char length of your input is\", user_inputLength)"
   ]
  },
  {
   "cell_type": "code",
   "execution_count": null,
   "id": "4d799521-9448-4ff1-a955-99e8ea847825",
   "metadata": {},
   "outputs": [],
   "source": []
  }
 ],
 "metadata": {
  "kernelspec": {
   "display_name": "Python 3 (ipykernel)",
   "language": "python",
   "name": "python3"
  },
  "language_info": {
   "codemirror_mode": {
    "name": "ipython",
    "version": 3
   },
   "file_extension": ".py",
   "mimetype": "text/x-python",
   "name": "python",
   "nbconvert_exporter": "python",
   "pygments_lexer": "ipython3",
   "version": "3.13.5"
  }
 },
 "nbformat": 4,
 "nbformat_minor": 5
}
