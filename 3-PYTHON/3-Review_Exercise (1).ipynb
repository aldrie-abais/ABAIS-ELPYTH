{
 "cells": [
  {
   "cell_type": "markdown",
   "id": "f8223c9a-5d14-47c6-9aab-8965dafb7d27",
   "metadata": {},
   "source": [
    "# 3-Review_Exercises\n",
    "\n",
    "__________"
   ]
  },
  {
   "cell_type": "code",
   "execution_count": 4,
   "id": "e69f3b70-b8bf-4d95-aa61-2abbdc3303cf",
   "metadata": {},
   "outputs": [
    {
     "name": "stdin",
     "output_type": "stream",
     "text": [
      "Enter a word:  wordssss\n"
     ]
    },
    {
     "name": "stdout",
     "output_type": "stream",
     "text": [
      "The word you entered has more than 5 characters.\n"
     ]
    }
   ],
   "source": [
    "testVar = input(\"Enter a word: \")\n",
    "if (len(testVar) < 5) : print(\"The word you entered has less than 5 characters.\")\n",
    "elif (len(testVar) == 5) : print(\"The word you entered has 5 characters.\")\n",
    "else : print(\"The word you entered has more than 5 characters.\")"
   ]
  },
  {
   "cell_type": "code",
   "execution_count": null,
   "id": "52803af5-385c-4082-bcc1-681232390644",
   "metadata": {},
   "outputs": [],
   "source": []
  }
 ],
 "metadata": {
  "kernelspec": {
   "display_name": "anaconda-panel-2023.05-py310",
   "language": "python",
   "name": "conda-env-anaconda-panel-2023.05-py310-py"
  },
  "language_info": {
   "codemirror_mode": {
    "name": "ipython",
    "version": 3
   },
   "file_extension": ".py",
   "mimetype": "text/x-python",
   "name": "python",
   "nbconvert_exporter": "python",
   "pygments_lexer": "ipython3",
   "version": "3.11.5"
  }
 },
 "nbformat": 4,
 "nbformat_minor": 5
}
