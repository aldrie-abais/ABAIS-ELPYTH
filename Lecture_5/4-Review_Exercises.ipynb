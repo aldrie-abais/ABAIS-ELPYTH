{
 "cells": [
  {
   "cell_type": "markdown",
   "id": "4f5213d8-9449-49cd-9fba-dfcfc47f3eaf",
   "metadata": {},
   "source": [
    "# 4-Review_Exercises\n",
    "\n",
    "__________"
   ]
  },
  {
   "cell_type": "code",
   "execution_count": 1,
   "id": "0bfa0f05-2457-4afd-bba1-c51cd94017a3",
   "metadata": {},
   "outputs": [],
   "source": [
    "captains={}"
   ]
  },
  {
   "cell_type": "code",
   "execution_count": 2,
   "id": "0f3c9b5d-7508-4088-8a80-87dab09a7ded",
   "metadata": {},
   "outputs": [],
   "source": [
    "captains[\"Enterprise\"]=\"Picard\"\n",
    "captains[\"Voyager\"]=\"Janeway\"\n",
    "captains[\"Defiant\"]=\"Sisko\""
   ]
  },
  {
   "cell_type": "code",
   "execution_count": 3,
   "id": "d31c4b92-f7f7-477f-8a41-092f7ea51e95",
   "metadata": {},
   "outputs": [],
   "source": [
    "if \"Enterprise\" not in captains:captains[\"Enterprise\"]=\"Unknown\"\n",
    "if \"Discovery\" not in captains:captains[\"Discovery\"]=\"Unknown\""
   ]
  },
  {
   "cell_type": "code",
   "execution_count": 8,
   "id": "c890137f-0420-4662-8f89-62b22a531e57",
   "metadata": {},
   "outputs": [
    {
     "name": "stdout",
     "output_type": "stream",
     "text": [
      " 'Enterprise' : 'Picard' \n",
      " 'Voyager' : 'Janeway' \n",
      " 'Defiant' : 'Sisko' \n"
     ]
    }
   ],
   "source": [
    "for ship in captains:\n",
    "    print(f\" '{ship}' : '{captains[ship]}' \")"
   ]
  },
  {
   "cell_type": "code",
   "execution_count": 6,
   "id": "8d6e88b4-436d-4fd4-b08a-2be2e6287565",
   "metadata": {},
   "outputs": [
    {
     "name": "stdout",
     "output_type": "stream",
     "text": [
      " The Enterprise is captained by Picard \n",
      " The Voyager is captained by Janeway \n",
      " The Defiant is captained by Sisko \n",
      " The Discovery is captained by Unknown \n"
     ]
    }
   ],
   "source": [
    "for key in captains:\n",
    "    print(f\" The {key} is captained by {captains[key]} \")"
   ]
  },
  {
   "cell_type": "code",
   "execution_count": 7,
   "id": "b2129e28-3d17-434b-9082-c8bdacf37f3b",
   "metadata": {},
   "outputs": [],
   "source": [
    "del captains[\"Discovery\"]\n",
    "for ship in captains:\n",
    "    print(f\" '{ship}' : '{captains[ship]}' \")"
   ]
  },
  {
   "cell_type": "code",
   "execution_count": 10,
   "id": "96ec384b-c094-431d-85e9-0cae66d3845b",
   "metadata": {},
   "outputs": [
    {
     "name": "stdout",
     "output_type": "stream",
     "text": [
      " 'Enterprise' : 'Picard' \n",
      " 'Voyager' : 'Janeway' \n",
      " 'Defiant' : 'Sisko' \n"
     ]
    }
   ],
   "source": [
    "key_value = (\n",
    " ('Enterprise','Picard'), \n",
    " ('Voyager','Janeway'), \n",
    " ('Defiant','Sisko' ),\n",
    ")\n",
    "new_captains = dict(key_value)\n",
    "for keys in captains_new:\n",
    "    print(f\" '{keys}' : '{new_captains[keys]}' \")"
   ]
  },
  {
   "cell_type": "code",
   "execution_count": null,
   "id": "21001d74-e339-465d-b957-37a29e21c890",
   "metadata": {},
   "outputs": [],
   "source": []
  }
 ],
 "metadata": {
  "kernelspec": {
   "display_name": "Python 3 (ipykernel)",
   "language": "python",
   "name": "python3"
  },
  "language_info": {
   "codemirror_mode": {
    "name": "ipython",
    "version": 3
   },
   "file_extension": ".py",
   "mimetype": "text/x-python",
   "name": "python",
   "nbconvert_exporter": "python",
   "pygments_lexer": "ipython3",
   "version": "3.13.5"
  }
 },
 "nbformat": 4,
 "nbformat_minor": 5
}
