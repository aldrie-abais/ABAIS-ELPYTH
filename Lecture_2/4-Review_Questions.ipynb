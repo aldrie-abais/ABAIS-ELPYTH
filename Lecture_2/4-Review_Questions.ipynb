{
 "cells": [
  {
   "cell_type": "markdown",
   "id": "f61981c5-79b2-40b9-ac05-d054163d6895",
   "metadata": {},
   "source": [
    "# Review Questions 4\n",
    "\n",
    "____"
   ]
  },
  {
   "cell_type": "code",
   "execution_count": 9,
   "id": "8008fe48-0e06-4000-b9de-7434bc726a0e",
   "metadata": {},
   "outputs": [
    {
     "name": "stdin",
     "output_type": "stream",
     "text": [
      "Enter a number:  1.5\n",
      "Enter another number:  1\n"
     ]
    },
    {
     "name": "stdout",
     "output_type": "stream",
     "text": [
      "The difference between  1.5 and 1 is an Integer? False\n"
     ]
    }
   ],
   "source": [
    "firstPrompt = \"Enter a number: \"\n",
    "firstInput = input(firstPrompt)\n",
    "convertedFirstInput = float(firstInput)\n",
    "\n",
    "secondPrompt = \"Enter another number: \"\n",
    "secondInput = input(secondPrompt)\n",
    "convertedSecondInput = float(secondInput)\n",
    "\n",
    "difference = convertedFirstInput - convertedSecondInput\n",
    "result = difference.is_integer()\n",
    "\n",
    "print(\"The difference between \", firstInput, \"and\", secondInput, \"is an Integer?\", result)"
   ]
  },
  {
   "cell_type": "code",
   "execution_count": null,
   "id": "8ba33700-1254-49c9-abf9-1a0a43ed6267",
   "metadata": {},
   "outputs": [],
   "source": []
  }
 ],
 "metadata": {
  "kernelspec": {
   "display_name": "Python 3 (ipykernel)",
   "language": "python",
   "name": "python3"
  },
  "language_info": {
   "codemirror_mode": {
    "name": "ipython",
    "version": 3
   },
   "file_extension": ".py",
   "mimetype": "text/x-python",
   "name": "python",
   "nbconvert_exporter": "python",
   "pygments_lexer": "ipython3",
   "version": "3.13.5"
  }
 },
 "nbformat": 4,
 "nbformat_minor": 5
}
