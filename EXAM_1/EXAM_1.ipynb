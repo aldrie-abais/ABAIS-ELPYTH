{
 "cells": [
  {
   "cell_type": "markdown",
   "id": "a2b5a041-8e60-41a9-92e9-c4ac16238d86",
   "metadata": {},
   "source": [
    "# 1st Long Exam 10/09/2025\n",
    "\n",
    "___"
   ]
  },
  {
   "cell_type": "markdown",
   "id": "8df0a003-bb8b-4213-8b21-9e1ee0f7bfc9",
   "metadata": {},
   "source": [
    "# ALDRIE ABAIS ID:23776065\n",
    "\n",
    "____"
   ]
  },
  {
   "cell_type": "markdown",
   "id": "43db27fb-f2f8-464e-9101-4b9c049605e0",
   "metadata": {},
   "source": [
    "Question 1:"
   ]
  },
  {
   "cell_type": "code",
   "execution_count": 1,
   "id": "549885ff-c1b4-4963-a9bb-d457f894b755",
   "metadata": {},
   "outputs": [
    {
     "name": "stdin",
     "output_type": "stream",
     "text": [
      "Enter your name:   Aldrie\n"
     ]
    },
    {
     "name": "stdout",
     "output_type": "stream",
     "text": [
      "Hello Aldrie\n"
     ]
    }
   ],
   "source": [
    "userName = input(\"Enter your name: \")\n",
    "print(\"Hello\" + userName)"
   ]
  },
  {
   "cell_type": "markdown",
   "id": "a8a02c5f-02e2-4a4d-90a1-040ba3acbd33",
   "metadata": {},
   "source": [
    "Question 2:"
   ]
  },
  {
   "cell_type": "code",
   "execution_count": 5,
   "id": "9f31d2f4-4be6-41cb-ab50-12a72476162e",
   "metadata": {},
   "outputs": [
    {
     "name": "stdin",
     "output_type": "stream",
     "text": [
      "Enter an integer:  5\n"
     ]
    },
    {
     "name": "stdout",
     "output_type": "stream",
     "text": [
      "15.0\n"
     ]
    }
   ],
   "source": [
    "n = abs(int(input(\"Enter an integer: \")))\n",
    "sum = n * (n+1)/2\n",
    "print(sum)"
   ]
  },
  {
   "cell_type": "markdown",
   "id": "89465fe7-626e-4c6c-8695-925ce2958384",
   "metadata": {},
   "source": [
    "Question 3:"
   ]
  },
  {
   "cell_type": "code",
   "execution_count": 16,
   "id": "46e279d5-d415-4047-9532-b21a3d031e33",
   "metadata": {},
   "outputs": [
    {
     "name": "stdin",
     "output_type": "stream",
     "text": [
      "Enter a letter of the alphabet:  y\n"
     ]
    },
    {
     "name": "stdout",
     "output_type": "stream",
     "text": [
      "Sometimes y is a vowel, and sometimes y is a consonant\n"
     ]
    }
   ],
   "source": [
    "x = input(\"Enter a letter of the alphabet: \")\n",
    "if(x.lower() == 'a' or x.lower() == 'e' or x.lower() == 'i' or x.lower() == 'o' or x.lower() == 'u'):\n",
    "    print(\"The entered letter is a vowel.\")\n",
    "elif(x.lower() == 'y'):\n",
    "    print(\"Sometimes y is a vowel, and sometimes y is a consonant\")\n",
    "else:\n",
    "    print(\"The entered letter is a consonant\")"
   ]
  },
  {
   "cell_type": "markdown",
   "id": "5f1b6d48-8915-4a0e-8e05-d100031f7682",
   "metadata": {},
   "source": [
    "Question 4:"
   ]
  },
  {
   "cell_type": "code",
   "execution_count": 14,
   "id": "741f5c77-1987-448d-ba01-da81fe4f74cf",
   "metadata": {},
   "outputs": [
    {
     "name": "stdin",
     "output_type": "stream",
     "text": [
      "Enter a word:  civic\n"
     ]
    },
    {
     "ename": "IndexError",
     "evalue": "string index out of range",
     "output_type": "error",
     "traceback": [
      "\u001b[1;31m---------------------------------------------------------------------------\u001b[0m",
      "\u001b[1;31mIndexError\u001b[0m                                Traceback (most recent call last)",
      "Cell \u001b[1;32mIn[14], line 5\u001b[0m\n\u001b[0;32m      3\u001b[0m checker \u001b[38;5;241m=\u001b[39m \u001b[38;5;241m0\u001b[39m\n\u001b[0;32m      4\u001b[0m \u001b[38;5;28;01mfor\u001b[39;00m i \u001b[38;5;129;01min\u001b[39;00m \u001b[38;5;28mrange\u001b[39m(\u001b[38;5;241m0\u001b[39m, \u001b[38;5;28mlen\u001b[39m(x)):\n\u001b[1;32m----> 5\u001b[0m     \u001b[38;5;28;01mif\u001b[39;00m(x[i] \u001b[38;5;241m==\u001b[39m x[\u001b[38;5;28mlen\u001b[39m(x)\u001b[38;5;241m-\u001b[39mi]):\n\u001b[0;32m      6\u001b[0m         checker \u001b[38;5;241m=\u001b[39m checker \u001b[38;5;241m+\u001b[39m \u001b[38;5;241m1\u001b[39m\n\u001b[0;32m      7\u001b[0m \u001b[38;5;28;01mif\u001b[39;00m(checker \u001b[38;5;241m==\u001b[39m \u001b[38;5;28mlen\u001b[39m(x)\u001b[38;5;241m-\u001b[39m\u001b[38;5;241m1\u001b[39m):\n",
      "\u001b[1;31mIndexError\u001b[0m: string index out of range"
     ]
    }
   ],
   "source": [
    "y = input(\"Enter a word: \")\n",
    "x = y.lower()\n",
    "checker = 0\n",
    "for i in range(0, len(x)):\n",
    "    if(x[i] == x[len(x)-i]):\n",
    "        checker = checker + 1\n",
    "if(checker == len(x)-1):\n",
    "    print(\"The word you entered is palindrome\")\n",
    "else:\n",
    "    print(\"The word you entered is not palindrome\")"
   ]
  },
  {
   "cell_type": "markdown",
   "id": "2eb35844-f4b4-44ee-878c-88f7a2d8ba08",
   "metadata": {},
   "source": [
    "Question 5:"
   ]
  },
  {
   "cell_type": "code",
   "execution_count": 15,
   "id": "c5e829be-4307-4107-a977-9801372dc23c",
   "metadata": {},
   "outputs": [
    {
     "name": "stdin",
     "output_type": "stream",
     "text": [
      "Enter the value of the right triangle's first short side:  20\n",
      "Enter the value of the right triangle's second short side:  15\n"
     ]
    },
    {
     "name": "stdout",
     "output_type": "stream",
     "text": [
      "Hypotenuse 312.5\n"
     ]
    }
   ],
   "source": [
    "a = abs(float(input(\"Enter the value of the right triangle's first short side: \")))\n",
    "b = abs(float(input(\"Enter the value of the right triangle's second short side: \")))\n",
    "\n",
    "def hypoFinder(a,b):\n",
    "    return (a**2 + b**2)**1/2\n",
    "\n",
    "print(\"Hypotenuse\", hypoFinder(a,b))"
   ]
  },
  {
   "cell_type": "code",
   "execution_count": null,
   "id": "997630fb-f62d-43b1-bcf7-a07960efb7cc",
   "metadata": {},
   "outputs": [],
   "source": []
  }
 ],
 "metadata": {
  "kernelspec": {
   "display_name": "Python 3 (ipykernel)",
   "language": "python",
   "name": "python3"
  },
  "language_info": {
   "codemirror_mode": {
    "name": "ipython",
    "version": 3
   },
   "file_extension": ".py",
   "mimetype": "text/x-python",
   "name": "python",
   "nbconvert_exporter": "python",
   "pygments_lexer": "ipython3",
   "version": "3.13.5"
  }
 },
 "nbformat": 4,
 "nbformat_minor": 5
}
