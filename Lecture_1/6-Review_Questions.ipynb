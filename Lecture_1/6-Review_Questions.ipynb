{
 "cells": [
  {
   "cell_type": "markdown",
   "id": "8275714b-a438-422a-a3d0-2c137feca7db",
   "metadata": {},
   "source": [
    "# Review_Questions 6\n",
    "\n",
    "________"
   ]
  },
  {
   "cell_type": "code",
   "execution_count": 1,
   "id": "f0f66e0f-f56f-4809-bc60-bee8b5b5632b",
   "metadata": {},
   "outputs": [
    {
     "data": {
      "text/plain": [
       "-1"
      ]
     },
     "execution_count": 1,
     "metadata": {},
     "output_type": "execute_result"
    }
   ],
   "source": [
    "sampleString = \"AAA\"\n",
    "sampleString.find(\"a\")"
   ]
  },
  {
   "cell_type": "code",
   "execution_count": 6,
   "id": "0bb2e710-efc8-4414-b6d6-78a40a196c33",
   "metadata": {},
   "outputs": [
    {
     "name": "stdout",
     "output_type": "stream",
     "text": [
      "somebody said something to samantha\n"
     ]
    },
    {
     "data": {
      "text/plain": [
       "'yomebody yaid yomething to yamantha'"
      ]
     },
     "execution_count": 6,
     "metadata": {},
     "output_type": "execute_result"
    }
   ],
   "source": [
    "sampleString = \"Somebody said something to Samantha\"\n",
    "loweredSampleString = sampleString.lower()\n",
    "print(loweredSampleString)\n",
    "loweredSampleString.replace('s','y')"
   ]
  },
  {
   "cell_type": "code",
   "execution_count": 13,
   "id": "c6cb0e61-910d-4d96-bef0-9c3d0249b6a0",
   "metadata": {},
   "outputs": [
    {
     "name": "stdin",
     "output_type": "stream",
     "text": [
      "Enter a random sentence:  I am Batman\n",
      "Enter a letter u want to find in your sentence:  b\n"
     ]
    },
    {
     "name": "stdout",
     "output_type": "stream",
     "text": [
      "If (-1) false. If not, true\n",
      "5\n"
     ]
    }
   ],
   "source": [
    "firstPrompt = \"Enter a random sentence: \"\n",
    "first_Input = input(firstPrompt)\n",
    "lowered_firstInput = first_Input.lower()\n",
    "\n",
    "secondPrompt = \"Enter a letter u want to find in your sentence: \"\n",
    "second_Input = input(secondPrompt)\n",
    "lowered_secondInput = second_Input.lower()\n",
    "\n",
    "findingChar = lowered_firstInput.find(lowered_secondInput)\n",
    "\n",
    "print(\"If (-1) false. If not, true\")\n",
    "print(findingChar)"
   ]
  },
  {
   "cell_type": "code",
   "execution_count": null,
   "id": "bd304e90-8be8-4c09-a2b1-bfde1d91ff59",
   "metadata": {},
   "outputs": [],
   "source": []
  }
 ],
 "metadata": {
  "kernelspec": {
   "display_name": "Python 3 (ipykernel)",
   "language": "python",
   "name": "python3"
  },
  "language_info": {
   "codemirror_mode": {
    "name": "ipython",
    "version": 3
   },
   "file_extension": ".py",
   "mimetype": "text/x-python",
   "name": "python",
   "nbconvert_exporter": "python",
   "pygments_lexer": "ipython3",
   "version": "3.13.5"
  }
 },
 "nbformat": 4,
 "nbformat_minor": 5
}
