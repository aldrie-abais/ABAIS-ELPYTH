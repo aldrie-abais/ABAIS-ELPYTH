{
 "cells": [
  {
   "cell_type": "code",
   "execution_count": 3,
   "id": "69a9326a-b177-4faf-849c-f54e59872c1c",
   "metadata": {},
   "outputs": [
    {
     "name": "stdout",
     "output_type": "stream",
     "text": [
      " THE AREA OF A 5-BY-8 RECTANGLE IS 40\n"
     ]
    }
   ],
   "source": [
    "from helpers.string import shout\n",
    "from helpers.math import area\n",
    "\n",
    "name = shout(\"rectangle\")\n",
    "product = area(5,8)\n",
    "print(\" THE AREA OF A 5-BY-8\", name, \"IS\", product)"
   ]
  },
  {
   "cell_type": "code",
   "execution_count": null,
   "id": "73ded7ff-b1d8-4cd3-84a8-522f36db97d1",
   "metadata": {},
   "outputs": [],
   "source": []
  }
 ],
 "metadata": {
  "kernelspec": {
   "display_name": "Python 3 (ipykernel)",
   "language": "python",
   "name": "python3"
  },
  "language_info": {
   "codemirror_mode": {
    "name": "ipython",
    "version": 3
   },
   "file_extension": ".py",
   "mimetype": "text/x-python",
   "name": "python",
   "nbconvert_exporter": "python",
   "pygments_lexer": "ipython3",
   "version": "3.13.5"
  }
 },
 "nbformat": 4,
 "nbformat_minor": 5
}
