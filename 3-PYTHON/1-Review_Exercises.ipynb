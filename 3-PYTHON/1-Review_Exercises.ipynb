{
 "cells": [
  {
   "cell_type": "markdown",
   "id": "c9208a0d-2bee-41aa-be2a-ab7701356849",
   "metadata": {},
   "source": [
    "# 1-Review_Exercises\n",
    "\n",
    "__________"
   ]
  },
  {
   "cell_type": "markdown",
   "id": "cdada19c-0599-4ca8-a294-a243c86ed1e2",
   "metadata": {},
   "source": [
    "# 1\n"
   ]
  },
  {
   "cell_type": "code",
   "execution_count": 1,
   "id": "718ea78c-5450-491f-8171-26532940e80a",
   "metadata": {},
   "outputs": [
    {
     "data": {
      "text/plain": [
       "True"
      ]
     },
     "execution_count": 1,
     "metadata": {},
     "output_type": "execute_result"
    }
   ],
   "source": [
    "1 <= 1"
   ]
  },
  {
   "cell_type": "code",
   "execution_count": 2,
   "id": "1ab9a2dd-42f4-4632-ac38-efeb87e9681c",
   "metadata": {},
   "outputs": [
    {
     "data": {
      "text/plain": [
       "False"
      ]
     },
     "execution_count": 2,
     "metadata": {},
     "output_type": "execute_result"
    }
   ],
   "source": [
    "1 != 1"
   ]
  },
  {
   "cell_type": "code",
   "execution_count": 3,
   "id": "49654d84-0a31-42ca-8251-0cc092be3016",
   "metadata": {},
   "outputs": [
    {
     "data": {
      "text/plain": [
       "True"
      ]
     },
     "execution_count": 3,
     "metadata": {},
     "output_type": "execute_result"
    }
   ],
   "source": [
    "1 != 2"
   ]
  },
  {
   "cell_type": "code",
   "execution_count": 4,
   "id": "99441668-e79e-4f4b-8096-effcf1957eb7",
   "metadata": {},
   "outputs": [
    {
     "data": {
      "text/plain": [
       "True"
      ]
     },
     "execution_count": 4,
     "metadata": {},
     "output_type": "execute_result"
    }
   ],
   "source": [
    "\"good\" != \"bad\""
   ]
  },
  {
   "cell_type": "code",
   "execution_count": 5,
   "id": "baf53793-74e9-4652-8f07-11fcfcdb2a28",
   "metadata": {},
   "outputs": [
    {
     "data": {
      "text/plain": [
       "True"
      ]
     },
     "execution_count": 5,
     "metadata": {},
     "output_type": "execute_result"
    }
   ],
   "source": [
    "\"good\" != \"Good\""
   ]
  },
  {
   "cell_type": "code",
   "execution_count": 6,
   "id": "0365842f-1a60-48c2-82b3-28e11ef05fbe",
   "metadata": {},
   "outputs": [
    {
     "data": {
      "text/plain": [
       "False"
      ]
     },
     "execution_count": 6,
     "metadata": {},
     "output_type": "execute_result"
    }
   ],
   "source": [
    "123 == \"123\""
   ]
  },
  {
   "cell_type": "markdown",
   "id": "bdfee409-525b-4b36-9d7a-9c831abb5ab0",
   "metadata": {},
   "source": [
    "# 2"
   ]
  },
  {
   "cell_type": "code",
   "execution_count": 7,
   "id": "2dd3c522-00ff-47be-a8b1-63014e76c2d7",
   "metadata": {},
   "outputs": [
    {
     "data": {
      "text/plain": [
       "True"
      ]
     },
     "execution_count": 7,
     "metadata": {},
     "output_type": "execute_result"
    }
   ],
   "source": [
    "3 < 4"
   ]
  },
  {
   "cell_type": "code",
   "execution_count": 8,
   "id": "9e31b211-064d-477e-a6b5-d6d5c952d3b7",
   "metadata": {},
   "outputs": [
    {
     "data": {
      "text/plain": [
       "True"
      ]
     },
     "execution_count": 8,
     "metadata": {},
     "output_type": "execute_result"
    }
   ],
   "source": [
    "10 > 5"
   ]
  },
  {
   "cell_type": "code",
   "execution_count": 9,
   "id": "75c20ddb-76e0-4fd2-8fd0-6a91337407ab",
   "metadata": {},
   "outputs": [
    {
     "data": {
      "text/plain": [
       "True"
      ]
     },
     "execution_count": 9,
     "metadata": {},
     "output_type": "execute_result"
    }
   ],
   "source": [
    "\"jack\" != \"jill\""
   ]
  },
  {
   "cell_type": "code",
   "execution_count": 10,
   "id": "51f496d6-fc79-47dd-b065-976c9bce3945",
   "metadata": {},
   "outputs": [
    {
     "data": {
      "text/plain": [
       "True"
      ]
     },
     "execution_count": 10,
     "metadata": {},
     "output_type": "execute_result"
    }
   ],
   "source": [
    "42 != \"42\""
   ]
  },
  {
   "cell_type": "code",
   "execution_count": null,
   "id": "ff61829e-0b32-45ce-b8f5-5133e44ecb56",
   "metadata": {},
   "outputs": [],
   "source": []
  }
 ],
 "metadata": {
  "kernelspec": {
   "display_name": "Python 3 (ipykernel)",
   "language": "python",
   "name": "python3"
  },
  "language_info": {
   "codemirror_mode": {
    "name": "ipython",
    "version": 3
   },
   "file_extension": ".py",
   "mimetype": "text/x-python",
   "name": "python",
   "nbconvert_exporter": "python",
   "pygments_lexer": "ipython3",
   "version": "3.13.5"
  }
 },
 "nbformat": 4,
 "nbformat_minor": 5
}
