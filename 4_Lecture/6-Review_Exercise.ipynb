{
 "cells": [
  {
   "cell_type": "markdown",
   "id": "c2a3d2a8-fcfe-4938-91f4-9f0f7eaf4edf",
   "metadata": {},
   "source": [
    "# 6-Review_Exercises\n",
    "\n",
    "__________"
   ]
  },
  {
   "cell_type": "code",
   "execution_count": 4,
   "id": "b39c402f-dc8f-4db8-9ee0-a147e669a716",
   "metadata": {},
   "outputs": [
    {
     "name": "stdout",
     "output_type": "stream",
     "text": [
      "6\n"
     ]
    }
   ],
   "source": [
    "import random\n",
    "def ROLL():\n",
    "    return random.randint(1, 6)\n",
    "\n",
    "print(ROLL())"
   ]
  },
  {
   "cell_type": "code",
   "execution_count": 6,
   "id": "a9f827ab-60c4-4952-a68e-d55340e7a3c6",
   "metadata": {},
   "outputs": [
    {
     "name": "stdout",
     "output_type": "stream",
     "text": [
      "1706\n",
      "1714\n",
      "1642\n",
      "1645\n",
      "1618\n",
      "1675\n"
     ]
    }
   ],
   "source": [
    "import random\n",
    "one_tally = 0;\n",
    "two_tally = 0;\n",
    "three_tally = 0;\n",
    "four_tally = 0;\n",
    "five_tally = 0;\n",
    "six_tally = 0;\n",
    "\n",
    "for trial in range(10000):\n",
    "    tempInt = random.randint(1, 6)\n",
    "    if(tempInt == 1):\n",
    "        one_tally = one_tally + 1\n",
    "    elif(tempInt == 2):\n",
    "        two_tally = two_tally + 1\n",
    "    elif(tempInt == 3):\n",
    "        three_tally = three_tally + 1\n",
    "    elif(tempInt == 4):\n",
    "        four_tally = four_tally + 1\n",
    "    elif(tempInt == 5):\n",
    "        five_tally = five_tally + 1\n",
    "    else:\n",
    "        six_tally = six_tally +1\n",
    "\n",
    "print(one_tally)\n",
    "print(two_tally)\n",
    "print(three_tally)\n",
    "print(four_tally)\n",
    "print(five_tally)\n",
    "print(six_tally)\n",
    "    #not finished yet\n",
    "    "
   ]
  },
  {
   "cell_type": "code",
   "execution_count": null,
   "id": "e9f2a7fc-915a-4093-8964-ef0e5908bea6",
   "metadata": {},
   "outputs": [],
   "source": []
  }
 ],
 "metadata": {
  "kernelspec": {
   "display_name": "anaconda-2024.02-py310",
   "language": "python",
   "name": "conda-env-anaconda-2024.02-py310-py"
  },
  "language_info": {
   "codemirror_mode": {
    "name": "ipython",
    "version": 3
   },
   "file_extension": ".py",
   "mimetype": "text/x-python",
   "name": "python",
   "nbconvert_exporter": "python",
   "pygments_lexer": "ipython3",
   "version": "3.10.14"
  }
 },
 "nbformat": 4,
 "nbformat_minor": 5
}
