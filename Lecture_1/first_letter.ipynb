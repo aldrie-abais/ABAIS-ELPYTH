{
 "cells": [
  {
   "cell_type": "markdown",
   "id": "f7f29e84-4d65-43b9-947f-f77cfaeb669d",
   "metadata": {},
   "source": [
    "# Review Questions 4\n",
    "\n",
    "______"
   ]
  },
  {
   "cell_type": "code",
   "execution_count": 3,
   "id": "98abfd3b-7a6b-42b5-9e8c-80fda93c69b4",
   "metadata": {},
   "outputs": [
    {
     "name": "stdin",
     "output_type": "stream",
     "text": [
      "Tell me your name. aldrie\n"
     ]
    },
    {
     "name": "stdout",
     "output_type": "stream",
     "text": [
      "A\n"
     ]
    }
   ],
   "source": [
    "username_prompt = \"Tell me your name.\"\n",
    "username_input = input(username_prompt)\n",
    "firstChar_of_userInput = username_input[  : 1]\n",
    "print(firstChar_of_userInput.upper())"
   ]
  },
  {
   "cell_type": "code",
   "execution_count": null,
   "id": "2f18da72-7ea3-4e14-85cb-e276b558139b",
   "metadata": {},
   "outputs": [],
   "source": []
  }
 ],
 "metadata": {
  "kernelspec": {
   "display_name": "Python 3 (ipykernel)",
   "language": "python",
   "name": "python3"
  },
  "language_info": {
   "codemirror_mode": {
    "name": "ipython",
    "version": 3
   },
   "file_extension": ".py",
   "mimetype": "text/x-python",
   "name": "python",
   "nbconvert_exporter": "python",
   "pygments_lexer": "ipython3",
   "version": "3.13.5"
  }
 },
 "nbformat": 4,
 "nbformat_minor": 5
}
