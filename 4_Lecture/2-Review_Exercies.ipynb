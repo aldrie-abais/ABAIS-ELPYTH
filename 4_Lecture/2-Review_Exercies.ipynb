{
 "cells": [
  {
   "cell_type": "markdown",
   "id": "a66b7a0c-5644-4e95-a4bb-f6392bb390d5",
   "metadata": {},
   "source": [
    "# 2-Review_Exercises\n",
    "\n",
    "__________"
   ]
  },
  {
   "cell_type": "markdown",
   "id": "d35031dd-5a83-4fe8-bd4c-fe44280f9a90",
   "metadata": {},
   "source": [
    "# 1"
   ]
  },
  {
   "cell_type": "code",
   "execution_count": 33,
   "id": "b296d1e4-2a50-4975-96c0-4fcf53300392",
   "metadata": {},
   "outputs": [
    {
     "data": {
      "text/plain": [
       "False"
      ]
     },
     "execution_count": 33,
     "metadata": {},
     "output_type": "execute_result"
    }
   ],
   "source": [
    "(1 <= 1) and (1 != 1)"
   ]
  },
  {
   "cell_type": "code",
   "execution_count": 34,
   "id": "e51eb8af-3b36-426b-b3ab-52128ceed91a",
   "metadata": {},
   "outputs": [
    {
     "data": {
      "text/plain": [
       "False"
      ]
     },
     "execution_count": 34,
     "metadata": {},
     "output_type": "execute_result"
    }
   ],
   "source": [
    "not (1 != 2)"
   ]
  },
  {
   "cell_type": "code",
   "execution_count": 3,
   "id": "3be2f965-27bc-4532-880a-e1311c0a794b",
   "metadata": {},
   "outputs": [
    {
     "data": {
      "text/plain": [
       "True"
      ]
     },
     "execution_count": 3,
     "metadata": {},
     "output_type": "execute_result"
    }
   ],
   "source": [
    "(\"good\" != \"bad\") or False"
   ]
  },
  {
   "cell_type": "code",
   "execution_count": 4,
   "id": "a5109e64-8e14-45f0-be15-58498dd77bc7",
   "metadata": {},
   "outputs": [
    {
     "data": {
      "text/plain": [
       "False"
      ]
     },
     "execution_count": 4,
     "metadata": {},
     "output_type": "execute_result"
    }
   ],
   "source": [
    "(\"good\" != \"Good\") and not (1 == 1)"
   ]
  },
  {
   "cell_type": "markdown",
   "id": "7d567aa8-3bf7-45a2-90c9-f95131f00cee",
   "metadata": {},
   "source": [
    "# 2"
   ]
  },
  {
   "cell_type": "code",
   "execution_count": 18,
   "id": "8734a7ce-47c4-4899-8e60-ee75b4b69d85",
   "metadata": {},
   "outputs": [
    {
     "data": {
      "text/plain": [
       "True"
      ]
     },
     "execution_count": 18,
     "metadata": {},
     "output_type": "execute_result"
    }
   ],
   "source": [
    "False == ( not True )"
   ]
  },
  {
   "cell_type": "code",
   "execution_count": 11,
   "id": "a8941ca9-ba1d-4151-938d-80bd31629b50",
   "metadata": {},
   "outputs": [
    {
     "data": {
      "text/plain": [
       "True"
      ]
     },
     "execution_count": 11,
     "metadata": {},
     "output_type": "execute_result"
    }
   ],
   "source": [
    "(True and False) == (True and False)"
   ]
  },
  {
   "cell_type": "code",
   "execution_count": 38,
   "id": "eb07cb10-e420-41fc-89d5-dd29b3662d8e",
   "metadata": {},
   "outputs": [
    {
     "data": {
      "text/plain": [
       "True"
      ]
     },
     "execution_count": 38,
     "metadata": {},
     "output_type": "execute_result"
    }
   ],
   "source": [
    "not (True and \"A\" == \"B\")"
   ]
  },
  {
   "cell_type": "code",
   "execution_count": null,
   "id": "a1c9e404-889b-4cb0-ad18-4e70d76c1752",
   "metadata": {},
   "outputs": [],
   "source": []
  }
 ],
 "metadata": {
  "kernelspec": {
   "display_name": "Python 3 (ipykernel)",
   "language": "python",
   "name": "python3"
  },
  "language_info": {
   "codemirror_mode": {
    "name": "ipython",
    "version": 3
   },
   "file_extension": ".py",
   "mimetype": "text/x-python",
   "name": "python",
   "nbconvert_exporter": "python",
   "pygments_lexer": "ipython3",
   "version": "3.13.5"
  }
 },
 "nbformat": 4,
 "nbformat_minor": 5
}
