{
 "cells": [
  {
   "cell_type": "markdown",
   "id": "003da227-70a9-4509-b9ad-9d1959bf36db",
   "metadata": {},
   "source": [
    "# 5-Review_Exercises\n",
    "\n",
    "__________"
   ]
  },
  {
   "cell_type": "code",
   "execution_count": 12,
   "id": "3f4ae19a-2877-45f7-b46d-ab2d5a7397f5",
   "metadata": {},
   "outputs": [
    {
     "name": "stdin",
     "output_type": "stream",
     "text": [
      "Input an integer:  asd\n"
     ]
    },
    {
     "name": "stdout",
     "output_type": "stream",
     "text": [
      "That was not an Integer\n"
     ]
    },
    {
     "name": "stdin",
     "output_type": "stream",
     "text": [
      "Input an integer:  123\n"
     ]
    },
    {
     "name": "stdout",
     "output_type": "stream",
     "text": [
      "123\n"
     ]
    }
   ],
   "source": [
    "while (True):\n",
    "    try:\n",
    "        number = int(input(\"Input an integer: \"))\n",
    "        print(number)\n",
    "        break;\n",
    "    except ValueError:\n",
    "        print(\"That was not an Integer\")"
   ]
  },
  {
   "cell_type": "code",
   "execution_count": 50,
   "id": "9737f26a-498a-4fd2-ba84-4c147773bb6f",
   "metadata": {},
   "outputs": [
    {
     "name": "stdin",
     "output_type": "stream",
     "text": [
      "Input a string:  aldrie\n",
      "Input an integer:  asd\n"
     ]
    },
    {
     "name": "stdout",
     "output_type": "stream",
     "text": [
      "That was not an Integer\n"
     ]
    },
    {
     "name": "stdin",
     "output_type": "stream",
     "text": [
      "Input an integer:  1000\n"
     ]
    },
    {
     "name": "stdout",
     "output_type": "stream",
     "text": [
      "You can only input an integer between( 0 and 6 )\n"
     ]
    },
    {
     "name": "stdin",
     "output_type": "stream",
     "text": [
      "Input an integer:  3\n"
     ]
    },
    {
     "data": {
      "text/plain": [
       "'r'"
      ]
     },
     "execution_count": 50,
     "metadata": {},
     "output_type": "execute_result"
    }
   ],
   "source": [
    "strInput = input(\"Input a string: \")\n",
    "while (True):\n",
    "    try:\n",
    "        N = int(input(\"Input an integer: \"))\n",
    "        if N < 0 or N-1 > len(strInput): \n",
    "            print(\"You can only input an integer between(\", 0, \"and\", len(strInput), \")\") \n",
    "        else :\n",
    "            break;\n",
    "    except ValueError:\n",
    "        print(\"That was not an Integer\")\n",
    "        \n",
    "strInput[N]\n"
   ]
  },
  {
   "cell_type": "code",
   "execution_count": null,
   "id": "faf6ba21-5ec4-4197-bf67-4193df7c6343",
   "metadata": {},
   "outputs": [],
   "source": []
  }
 ],
 "metadata": {
  "kernelspec": {
   "display_name": "anaconda-2024.02-py310",
   "language": "python",
   "name": "conda-env-anaconda-2024.02-py310-py"
  },
  "language_info": {
   "codemirror_mode": {
    "name": "ipython",
    "version": 3
   },
   "file_extension": ".py",
   "mimetype": "text/x-python",
   "name": "python",
   "nbconvert_exporter": "python",
   "pygments_lexer": "ipython3",
   "version": "3.10.14"
  }
 },
 "nbformat": 4,
 "nbformat_minor": 5
}
