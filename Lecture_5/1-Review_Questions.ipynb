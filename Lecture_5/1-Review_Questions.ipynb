{
 "cells": [
  {
   "cell_type": "markdown",
   "id": "e2b7ad83-8ac5-4018-97f1-5c26937828e6",
   "metadata": {},
   "source": [
    "# 1-Review_Exercises\n",
    "\n",
    "__________"
   ]
  },
  {
   "cell_type": "code",
   "execution_count": 2,
   "id": "bfe41cf2-c75a-4999-9158-cd258ace0ea1",
   "metadata": {},
   "outputs": [
    {
     "name": "stdout",
     "output_type": "stream",
     "text": [
      "SECOND\n"
     ]
    }
   ],
   "source": [
    "CARDINAL_NUMBERS = (\"FIRST\", \"SECOND\", \"THIRD\")\n",
    "print(CARDINAL_NUMBERS[1])"
   ]
  },
  {
   "cell_type": "code",
   "execution_count": 4,
   "id": "d5e40e8d-45e0-4f1d-982d-aafe9a38e3c0",
   "metadata": {},
   "outputs": [
    {
     "name": "stdout",
     "output_type": "stream",
     "text": [
      "FIRST SECOND THIRD\n"
     ]
    }
   ],
   "source": [
    "POSITION1, POSITION2, POSITION3 = CARDINAL_NUMBERS\n",
    "print(POSITION1, POSITION2, POSITION3)"
   ]
  },
  {
   "cell_type": "code",
   "execution_count": 11,
   "id": "a9ba6962-5a4f-428d-9e0b-eb8a266a28c7",
   "metadata": {},
   "outputs": [
    {
     "name": "stdout",
     "output_type": "stream",
     "text": [
      "('a', 'l', 'd', 'r', 'i', 'e')\n"
     ]
    }
   ],
   "source": [
    "MY_NAME = tuple(\"aldrie\")\n",
    "print(MY_NAME)"
   ]
  },
  {
   "cell_type": "code",
   "execution_count": 8,
   "id": "ffcc326c-9539-4da6-91a3-7ca9cb54d6a8",
   "metadata": {},
   "outputs": [
    {
     "data": {
      "text/plain": [
       "False"
      ]
     },
     "execution_count": 8,
     "metadata": {},
     "output_type": "execute_result"
    }
   ],
   "source": [
    "'x' in MY_NAME"
   ]
  },
  {
   "cell_type": "code",
   "execution_count": 13,
   "id": "6281708e-4f6a-4b83-ab6c-8aefe5ffbd70",
   "metadata": {},
   "outputs": [
    {
     "name": "stdout",
     "output_type": "stream",
     "text": [
      "('l', 'd', 'r', 'i', 'e')\n"
     ]
    }
   ],
   "source": [
    "NEW_TUPLE = MY_NAME[1:]\n",
    "print(NEW_TUPLE)"
   ]
  },
  {
   "cell_type": "code",
   "execution_count": null,
   "id": "0bf8f1e9-87a0-45cd-978e-68ed77643a45",
   "metadata": {},
   "outputs": [],
   "source": []
  }
 ],
 "metadata": {
  "kernelspec": {
   "display_name": "Python 3 (ipykernel)",
   "language": "python",
   "name": "python3"
  },
  "language_info": {
   "codemirror_mode": {
    "name": "ipython",
    "version": 3
   },
   "file_extension": ".py",
   "mimetype": "text/x-python",
   "name": "python",
   "nbconvert_exporter": "python",
   "pygments_lexer": "ipython3",
   "version": "3.13.5"
  }
 },
 "nbformat": 4,
 "nbformat_minor": 5
}
