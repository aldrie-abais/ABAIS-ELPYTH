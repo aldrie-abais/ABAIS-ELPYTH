{
 "cells": [
  {
   "cell_type": "markdown",
   "id": "e2a9d6d2-a103-4fe4-902b-6d1cfad47d40",
   "metadata": {},
   "source": [
    "# 2-Review_Exercises\n",
    "\n",
    "__________"
   ]
  },
  {
   "cell_type": "code",
   "execution_count": 12,
   "id": "2b8e5b2c-bf6e-47f3-9cb6-975a1c79af28",
   "metadata": {},
   "outputs": [
    {
     "name": "stdout",
     "output_type": "stream",
     "text": [
      "Max is 2 years old\n",
      "Max says bark\n"
     ]
    }
   ],
   "source": [
    "class Dog:\n",
    "    species = \"Canis familiaris\"\n",
    "\n",
    "    def __init__(self, name, age, coat_color):\n",
    "        self.name = name\n",
    "        self.age = age\n",
    "        self.coat_color = coat_color\n",
    "\n",
    "    def __str__(self):\n",
    "        return f\"{self.name} is {self.age} years old\"\n",
    "\n",
    "    def speak(self, sound):\n",
    "        return f\"{self.name} says {sound}\"\n",
    "\n",
    "class GoldenRetriever(Dog):\n",
    "    def speak(self, sound = \"bark\"):\n",
    "         return f\"{self.name} says {sound}\"\n",
    "\n",
    "golden = GoldenRetriever(\"Max\", 2, \"golden\")\n",
    "print(golden)\n",
    "print(golden.speak())"
   ]
  },
  {
   "cell_type": "code",
   "execution_count": 42,
   "id": "aeac5685-ea5e-4168-b8e5-d4c4bdd3e50e",
   "metadata": {},
   "outputs": [
    {
     "name": "stdout",
     "output_type": "stream",
     "text": [
      "16\n"
     ]
    }
   ],
   "source": [
    "class Rectangle:\n",
    "    def __init__(self, length, width):\n",
    "        self.length = length\n",
    "        self.width = width\n",
    "\n",
    "    def area(self):\n",
    "        return self.length * self.width\n",
    "\n",
    "class Square(Rectangle):\n",
    "    def area(awlf, side_length = 4):\n",
    "        return side_length * side_length\n",
    "\n",
    "sqr = Square(4, 4)\n",
    "print(sqr.area())"
   ]
  },
  {
   "cell_type": "code",
   "execution_count": null,
   "id": "6224bd85-2e37-4526-83ce-585142838460",
   "metadata": {},
   "outputs": [],
   "source": []
  }
 ],
 "metadata": {
  "kernelspec": {
   "display_name": "Python 3 (ipykernel)",
   "language": "python",
   "name": "python3"
  },
  "language_info": {
   "codemirror_mode": {
    "name": "ipython",
    "version": 3
   },
   "file_extension": ".py",
   "mimetype": "text/x-python",
   "name": "python",
   "nbconvert_exporter": "python",
   "pygments_lexer": "ipython3",
   "version": "3.13.5"
  }
 },
 "nbformat": 4,
 "nbformat_minor": 5
}
